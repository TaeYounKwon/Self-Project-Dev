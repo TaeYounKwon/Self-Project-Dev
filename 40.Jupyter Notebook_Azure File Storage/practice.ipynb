{
 "cells": [
  {
   "cell_type": "code",
   "execution_count": 1,
   "metadata": {},
   "outputs": [
    {
     "name": "stdout",
     "output_type": "stream",
     "text": [
      "Collecting azure-storage-file\n",
      "  Downloading azure_storage_file-2.1.0-py2.py3-none-any.whl (36 kB)\n",
      "Collecting azure-storage-common~=2.1\n",
      "  Downloading azure_storage_common-2.1.0-py2.py3-none-any.whl (47 kB)\n",
      "     ---------------------------------------- 47.8/47.8 KB ? eta 0:00:00\n",
      "Requirement already satisfied: azure-common>=1.1.5 in c:\\users\\tempe\\appdata\\local\\programs\\python\\python310\\lib\\site-packages (from azure-storage-file) (1.1.28)\n",
      "Requirement already satisfied: cryptography in c:\\users\\tempe\\appdata\\local\\programs\\python\\python310\\lib\\site-packages (from azure-storage-common~=2.1->azure-storage-file) (38.0.3)\n",
      "Requirement already satisfied: requests in c:\\users\\tempe\\appdata\\local\\programs\\python\\python310\\lib\\site-packages (from azure-storage-common~=2.1->azure-storage-file) (2.28.1)\n",
      "Requirement already satisfied: python-dateutil in c:\\users\\tempe\\appdata\\local\\programs\\python\\python310\\lib\\site-packages (from azure-storage-common~=2.1->azure-storage-file) (2.8.2)\n",
      "Requirement already satisfied: cffi>=1.12 in c:\\users\\tempe\\appdata\\local\\programs\\python\\python310\\lib\\site-packages (from cryptography->azure-storage-common~=2.1->azure-storage-file) (1.15.1)\n",
      "Requirement already satisfied: six>=1.5 in c:\\users\\tempe\\appdata\\local\\programs\\python\\python310\\lib\\site-packages (from python-dateutil->azure-storage-common~=2.1->azure-storage-file) (1.16.0)\n",
      "Requirement already satisfied: urllib3<1.27,>=1.21.1 in c:\\users\\tempe\\appdata\\local\\programs\\python\\python310\\lib\\site-packages (from requests->azure-storage-common~=2.1->azure-storage-file) (1.26.12)\n",
      "Requirement already satisfied: certifi>=2017.4.17 in c:\\users\\tempe\\appdata\\local\\programs\\python\\python310\\lib\\site-packages (from requests->azure-storage-common~=2.1->azure-storage-file) (2022.9.24)\n",
      "Requirement already satisfied: idna<4,>=2.5 in c:\\users\\tempe\\appdata\\local\\programs\\python\\python310\\lib\\site-packages (from requests->azure-storage-common~=2.1->azure-storage-file) (3.4)\n",
      "Requirement already satisfied: charset-normalizer<3,>=2 in c:\\users\\tempe\\appdata\\local\\programs\\python\\python310\\lib\\site-packages (from requests->azure-storage-common~=2.1->azure-storage-file) (2.1.1)\n",
      "Requirement already satisfied: pycparser in c:\\users\\tempe\\appdata\\local\\programs\\python\\python310\\lib\\site-packages (from cffi>=1.12->cryptography->azure-storage-common~=2.1->azure-storage-file) (2.21)\n",
      "Installing collected packages: azure-storage-common, azure-storage-file\n",
      "Successfully installed azure-storage-common-2.1.0 azure-storage-file-2.1.0\n"
     ]
    },
    {
     "name": "stderr",
     "output_type": "stream",
     "text": [
      "WARNING: You are using pip version 22.0.4; however, version 22.3.1 is available.\n",
      "You should consider upgrading via the 'C:\\Users\\tempe\\AppData\\Local\\Programs\\Python\\Python310\\python.exe -m pip install --upgrade pip' command.\n"
     ]
    }
   ],
   "source": [
    "!pip install azure-storage-file "
   ]
  },
  {
   "cell_type": "code",
   "execution_count": 2,
   "metadata": {},
   "outputs": [],
   "source": [
    "from azure.storage.file import FileService\n",
    "# 소스코드안에 account_key가 보이는건 굉장히 나쁜것임!!!\n",
    "# 나중에 따로 account_key관리해주는 프로그렘을 사용하거나 따로 관리해야함!\n",
    "file_service = FileService(account_name='kweont', account_key='QgdboFCfgqwgbcqceOEgBCidQXqapAuURmemczEwj9oVogrAWRnVLc/JL+MM1HZBFXtzQCtym/3R+AStdOWXGg==')"
   ]
  },
  {
   "cell_type": "code",
   "execution_count": 3,
   "metadata": {},
   "outputs": [
    {
     "data": {
      "text/plain": [
       "True"
      ]
     },
     "execution_count": 3,
     "metadata": {},
     "output_type": "execute_result"
    }
   ],
   "source": [
    "# Create File-Share ' myshare'\n",
    "file_service.create_share('myshare')"
   ]
  },
  {
   "cell_type": "code",
   "execution_count": 4,
   "metadata": {},
   "outputs": [
    {
     "data": {
      "text/plain": [
       "True"
      ]
     },
     "execution_count": 4,
     "metadata": {},
     "output_type": "execute_result"
    }
   ],
   "source": [
    "# Create Directory\n",
    "file_service.create_directory('myshare','sampledir')"
   ]
  },
  {
   "cell_type": "code",
   "execution_count": 5,
   "metadata": {},
   "outputs": [],
   "source": [
    "# Upload image to the \n",
    "from azure.storage.file import ContentSettings #  올리는 파일 종류에 따라서 파일을 다루는 방법이 다르기 때문에 사용\n",
    "\n",
    "# 파일이름, 하위폴더, 업로드할 파일 이름, 실제 업로드할 파일, content_setting을 통해서 jpg파일임을 알려줌\n",
    "file_service.create_file_from_path('myshare',None,'myfile', 'me.jpg', content_settings=ContentSettings(content_type='image/jpg')) "
   ]
  },
  {
   "cell_type": "code",
   "execution_count": 8,
   "metadata": {},
   "outputs": [
    {
     "data": {
      "text/plain": [
       "<azure.storage.common.models.ListGenerator at 0x1725e0d7490>"
      ]
     },
     "execution_count": 8,
     "metadata": {},
     "output_type": "execute_result"
    }
   ],
   "source": [
    "# 파일이 잘 올라갔는지 확인\n",
    "generator = file_service.list_directories_and_files('myshare')\n",
    "generator"
   ]
  },
  {
   "cell_type": "code",
   "execution_count": 10,
   "metadata": {},
   "outputs": [
    {
     "name": "stdout",
     "output_type": "stream",
     "text": [
      "myfile\n",
      "sampledir\n"
     ]
    }
   ],
   "source": [
    "for file_or_dir in generator:\n",
    "    print(file_or_dir.name)"
   ]
  },
  {
   "cell_type": "code",
   "execution_count": 11,
   "metadata": {},
   "outputs": [
    {
     "data": {
      "text/plain": [
       "<azure.storage.file.models.File at 0x1725e0d4280>"
      ]
     },
     "execution_count": 11,
     "metadata": {},
     "output_type": "execute_result"
    }
   ],
   "source": [
    "# 올라간 파일 가져오기!\n",
    "file_service.get_file_to_path('myshare',None,'myfile','me_Download.jpg')"
   ]
  }
 ],
 "metadata": {
  "kernelspec": {
   "display_name": "Python 3.10.5 64-bit",
   "language": "python",
   "name": "python3"
  },
  "language_info": {
   "codemirror_mode": {
    "name": "ipython",
    "version": 3
   },
   "file_extension": ".py",
   "mimetype": "text/x-python",
   "name": "python",
   "nbconvert_exporter": "python",
   "pygments_lexer": "ipython3",
   "version": "3.10.5"
  },
  "orig_nbformat": 4,
  "vscode": {
   "interpreter": {
    "hash": "e89c93e4c07d4ac8f065cea982a638287e1c61026788fcbbad7e0263e2130583"
   }
  }
 },
 "nbformat": 4,
 "nbformat_minor": 2
}
