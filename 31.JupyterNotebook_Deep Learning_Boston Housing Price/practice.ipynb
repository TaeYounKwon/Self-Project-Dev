{
 "cells": [
  {
   "cell_type": "code",
   "execution_count": 48,
   "metadata": {},
   "outputs": [],
   "source": [
    "import keras\n",
    "import pandas as pd\n",
    "import matplotlib.pyplot as plt\n",
    "import numpy as np\n",
    "import warnings\n",
    "warnings.filterwarnings('ignore')\n",
    "plt.style.use('seaborn-whitegrid')"
   ]
  },
  {
   "cell_type": "code",
   "execution_count": 49,
   "metadata": {},
   "outputs": [],
   "source": [
    "# Bring the Dataset\n",
    "from keras.datasets import boston_housing\n",
    "(train_data, train_labels),(test_data, test_labels) = boston_housing.load_data()"
   ]
  },
  {
   "cell_type": "code",
   "execution_count": 50,
   "metadata": {},
   "outputs": [
    {
     "data": {
      "text/plain": [
       "(404, 13)"
      ]
     },
     "execution_count": 50,
     "metadata": {},
     "output_type": "execute_result"
    }
   ],
   "source": [
    "train_data.shape"
   ]
  },
  {
   "cell_type": "code",
   "execution_count": 51,
   "metadata": {},
   "outputs": [
    {
     "data": {
      "text/plain": [
       "(102, 13)"
      ]
     },
     "execution_count": 51,
     "metadata": {},
     "output_type": "execute_result"
    }
   ],
   "source": [
    "test_data.shape"
   ]
  },
  {
   "cell_type": "markdown",
   "metadata": {},
   "source": [
    "mean(axis=?)\n",
    "\n",
    "    여기에서 axis값은 0 혹은 1이 될 수 있는데\n",
    "    \n",
    "    0의 값은 column 의 평균값(가로, 좌->우 로 움직일때 각 컬럼의 값)을 의미하고\n",
    "    \n",
    "    1의 값은 row의 평균 값으로 (세로 위->아래 로 움직일때 각 줄의 값)\n",
    "\n",
    "    예) 만약 중간고사 시험점수를 과목별 수학/과학/영어/국어 로 평균을 낸다면 axis=0\n",
    "    \n",
    "    만약 각각 사람의 시험결과 평균을 낸다면 axis=1\n"
   ]
  },
  {
   "cell_type": "code",
   "execution_count": 52,
   "metadata": {},
   "outputs": [],
   "source": [
    "# Getting ready to use data\n",
    "# 전체 데이터의 평균값\n",
    "\n",
    "# Trying to get standard scaling\n",
    "mean = train_data.mean(axis=0)"
   ]
  },
  {
   "cell_type": "code",
   "execution_count": 53,
   "metadata": {},
   "outputs": [],
   "source": [
    "train_data -= mean"
   ]
  },
  {
   "cell_type": "code",
   "execution_count": 54,
   "metadata": {},
   "outputs": [],
   "source": [
    "# 표준편차를 구함\n",
    "std = train_data.std(axis=0)"
   ]
  },
  {
   "cell_type": "code",
   "execution_count": 63,
   "metadata": {},
   "outputs": [],
   "source": [
    "train_data /= std\n",
    "# train_data = train_data / std"
   ]
  },
  {
   "cell_type": "code",
   "execution_count": 64,
   "metadata": {},
   "outputs": [],
   "source": [
    "mean = test_data.mean(axis=0)\n",
    "test_data -= mean\n",
    "std = test_data.std(axis=0)\n",
    "test_data /= std"
   ]
  },
  {
   "cell_type": "code",
   "execution_count": 65,
   "metadata": {},
   "outputs": [],
   "source": [
    "# Build Neural Network\n",
    "from keras import models\n",
    "from keras import layers\n",
    "\n",
    "def build_model():\n",
    "    model = models.Sequential()\n",
    "    model.add(layers.Dense(64, activation='relu',input_shape=(train_data.shape[1],)))\n",
    "    model.add(layers.Dense(64, activation='relu'))\n",
    "    model.add(layers.Dense(1)) # 마지막 함수로 집값이 그대로 나감\n",
    "    \n",
    "    model.compile(optimizer='rmsprop', loss='mse',metrics=['mae']) # mean-absolute-error\n",
    "    \n",
    "    return model"
   ]
  },
  {
   "cell_type": "markdown",
   "metadata": {},
   "source": [
    "K-Folder Validation\n",
    "    \n",
    "    만약 K=3이라면\n",
    "    \n",
    "    데이터를 3개의 폴더로 나눈 뒤\n",
    "    \n",
    "    첫번째 폴더에서 데이터를 3개로 분할 후 첫번째는 검증, 2개는 훈련\n",
    "    \n",
    "    두번째 폴더에서도 데이터를 3분할 후, 2번째는 검증, 1번째 3번째는 훈련\n",
    "    \n",
    "    마지막 세번째에서는, 3번째를 검증, 1, 2번쨰로 훈련"
   ]
  },
  {
   "cell_type": "code",
   "execution_count": 68,
   "metadata": {},
   "outputs": [
    {
     "name": "stdout",
     "output_type": "stream",
     "text": [
      "Working on fold # 0\n",
      "Working on fold # 1\n",
      "Working on fold # 2\n",
      "Working on fold # 3\n"
     ]
    }
   ],
   "source": [
    "k = 4\n",
    "num_epochs = 500\n",
    "\n",
    "num_val_samples = len(train_data)//k # 폴더의 사이즈\n",
    "all_scores = []\n",
    "\n",
    "for i in range(k):\n",
    "    print('Working on fold #',i)\n",
    "    \n",
    "    # 검증 데이터를 준비: k번째 분할\n",
    "    val_data = train_data[i*num_val_samples:(i+1)*num_val_samples]\n",
    "    val_labels = train_labels[i*num_val_samples:(i+1)*num_val_samples]\n",
    "    \n",
    "    # 훈련 데이터를 준비:\n",
    "    particial_train_data = np.concatenate([train_data[:i*num_val_samples],train_data[(i+1)*num_val_samples:]], axis=0)\n",
    "    \n",
    "    # 훈련 라벨 준비:\n",
    "    particial_train_labels = np.concatenate([train_labels[:i*num_val_samples],train_labels[(i+1)*num_val_samples:]], axis=0)\n",
    "    \n",
    "    # print(i*num_val_samples,(i+1)*num_val_samples)\n",
    "    \n",
    "    model = build_model()\n",
    "    history = model.fit(particial_train_data, \n",
    "                        particial_train_labels, \n",
    "                        epochs=num_epochs, \n",
    "                        batch_size=1, \n",
    "                        validation_data=(val_data, val_labels),\n",
    "                        verbose=0)\n",
    "    mae_history = history.history['mae']\n",
    "\n",
    "    all_scores.append(mae_history)"
   ]
  },
  {
   "cell_type": "code",
   "execution_count": 70,
   "metadata": {},
   "outputs": [],
   "source": [
    "# 각 epoch 별로 평균을 구해냄\n",
    "average_mae_history = [np.mean([x[i] for x in all_scores]) for i in range(num_epochs)] "
   ]
  },
  {
   "cell_type": "code",
   "execution_count": 72,
   "metadata": {},
   "outputs": [
    {
     "data": {
      "text/plain": [
       "Text(0, 0.5, 'Validation MAE')"
      ]
     },
     "execution_count": 72,
     "metadata": {},
     "output_type": "execute_result"
    },
    {
     "data": {
      "image/png": "[encoded data removed]",
      "text/plain": [
       "<Figure size 640x480 with 1 Axes>"
      ]
     },
     "metadata": {},
     "output_type": "display_data"
    }
   ],
   "source": [
    "# Data Visualization\n",
    "\n",
    "plt.plot(range(1,len(average_mae_history)+1), average_mae_history)\n",
    "plt.xlabel('Epochs')\n",
    "plt.ylabel('Validation MAE')"
   ]
  },
  {
   "cell_type": "markdown",
   "metadata": {},
   "source": [
    "평균 80번 정도부터 MAE가 천천히 내려감"
   ]
  },
  {
   "cell_type": "code",
   "execution_count": null,
   "metadata": {},
   "outputs": [],
   "source": []
  }
 ],
 "metadata": {
  "kernelspec": {
   "display_name": "Python 3.10.5 64-bit",
   "language": "python",
   "name": "python3"
  },
  "language_info": {
   "codemirror_mode": {
    "name": "ipython",
    "version": 3
   },
   "file_extension": ".py",
   "mimetype": "text/x-python",
   "name": "python",
   "nbconvert_exporter": "python",
   "pygments_lexer": "ipython3",
   "version": "3.10.5"
  },
  "orig_nbformat": 4,
  "vscode": {
   "interpreter": {
    "hash": "e89c93e4c07d4ac8f065cea982a638287e1c61026788fcbbad7e0263e2130583"
   }
  }
 },
 "nbformat": 4,
 "nbformat_minor": 2
}
