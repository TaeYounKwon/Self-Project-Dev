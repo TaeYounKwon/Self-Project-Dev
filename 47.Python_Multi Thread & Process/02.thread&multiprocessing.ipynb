{
 "cells": [
  {
   "cell_type": "code",
   "execution_count": 5,
   "metadata": {},
   "outputs": [],
   "source": [
    "from threading import Thread\n",
    "import time\n",
    "import psutil\n",
    "import os "
   ]
  },
  {
   "cell_type": "code",
   "execution_count": 6,
   "metadata": {},
   "outputs": [],
   "source": [
    "def work(id, start, end, result):\n",
    "    total = 0\n",
    "    for i in range(start, end):\n",
    "        total += i\n",
    "    result.append(total)\n",
    "    return"
   ]
  },
  {
   "cell_type": "code",
   "execution_count": 17,
   "metadata": {},
   "outputs": [],
   "source": [
    "START, END = 0, 500000000\n",
    "result = list()"
   ]
  },
  {
   "attachments": {},
   "cell_type": "markdown",
   "metadata": {},
   "source": [
    "### 한개의 thread만 사용"
   ]
  },
  {
   "cell_type": "code",
   "execution_count": 11,
   "metadata": {},
   "outputs": [
    {
     "name": "stdout",
     "output_type": "stream",
     "text": [
      "AFTER  CODE: memory_usage_percent: 32.9%\n",
      "AFTER  CODE: Current memory KB   :    63.832 KB\n",
      "Finished in 13.96 second(s)\n"
     ]
    }
   ],
   "source": [
    "start = time.perf_counter()\n",
    "\n",
    "th1 = Thread(target=work, args=(1, START, END, result))\n",
    "th1.start()\n",
    "th1.join()\n",
    "\n",
    "\n",
    "finish = time.perf_counter()\n",
    "print(f'Finished in {round(finish-start, 2)} second(s)')"
   ]
  },
  {
   "attachments": {},
   "cell_type": "markdown",
   "metadata": {},
   "source": [
    "### 두개의 thread 사용"
   ]
  },
  {
   "cell_type": "code",
   "execution_count": 12,
   "metadata": {},
   "outputs": [
    {
     "name": "stdout",
     "output_type": "stream",
     "text": [
      "AFTER  CODE: memory_usage_percent: 33.4%\n",
      "AFTER  CODE: Current memory KB   :    63.824 KB\n",
      "Finished in 14.7 second(s)\n"
     ]
    }
   ],
   "source": [
    "start = time.perf_counter()\n",
    "\n",
    "th1 = Thread(target=work, args=(1, START, END//2, result))\n",
    "th2 = Thread(target=work, args=(2, END//2, END, result))\n",
    "\n",
    "th1.start()\n",
    "th2.start()\n",
    "th1.join()\n",
    "th2.join()\n",
    "\n",
    "finish = time.perf_counter()\n",
    "print(f'Finished in {round(finish-start, 2)} second(s)')"
   ]
  },
  {
   "attachments": {},
   "cell_type": "markdown",
   "metadata": {},
   "source": [
    "### Using Multi-Processing"
   ]
  },
  {
   "cell_type": "code",
   "execution_count": 13,
   "metadata": {},
   "outputs": [],
   "source": [
    "from multiprocessing import Process, Queue"
   ]
  },
  {
   "cell_type": "code",
   "execution_count": 16,
   "metadata": {},
   "outputs": [
    {
     "name": "stdout",
     "output_type": "stream",
     "text": [
      "AFTER  CODE: memory_usage_percent: 33.3%\n",
      "AFTER  CODE: Current memory KB   :    64.770 KB\n",
      "Finished in 0.08 second(s)\n"
     ]
    }
   ],
   "source": [
    "start = time.perf_counter()\n",
    "\n",
    "result = Queue()\n",
    "th1 = Process(target=work, args=(1, START, END//2, result))\n",
    "th2 = Process(target=work, args=(2, END//2, END, result))\n",
    "\n",
    "th1.start()\n",
    "th2.start()\n",
    "th1.join()\n",
    "th2.join()\n",
    "# AFTER  code\n",
    "memory_usage_dict = dict(psutil.virtual_memory()._asdict())\n",
    "memory_usage_percent = memory_usage_dict['percent']\n",
    "print(f\"AFTER  CODE: memory_usage_percent: {memory_usage_percent}%\")\n",
    "# current process RAM usage\n",
    "pid = os.getpid()\n",
    "current_process = psutil.Process(pid)\n",
    "current_process_memory_usage_as_KB = current_process.memory_info()[0] / 2.**20\n",
    "print(f\"AFTER  CODE: Current memory KB   : {current_process_memory_usage_as_KB: 9.3f} KB\")\n",
    "result.put('STOP')\n",
    "total = 0\n",
    "while True:\n",
    "    tmp = result.get()\n",
    "    if tmp == 'STOP':\n",
    "        break\n",
    "    else:\n",
    "        total += tmp\n",
    "\n",
    "finish = time.perf_counter()\n",
    "print(f'Finished in {round(finish-start, 2)} second(s)')"
   ]
  },
  {
   "attachments": {},
   "cell_type": "markdown",
   "metadata": {},
   "source": [
    "### Test Result \n",
    "\n",
    "- Multiprocessing 모듈은 threading 모듈과 구현 방식이 거의 같아서 thread 방식의 코드를 쉽게 이식 가능\n",
    "\n",
    "- 14.6초(Multi-Thread)에서 0.1초(Multi-Processing)로 많은 시간 단축을 보임\n",
    "\n",
    "- 단, 프로세스는 각자가 고유한 메모리 영역을 가지기 떄문에 쓰레드에 비하며 메모리 사용이 증가\n",
    "\n",
    "- 싱글 머신 아키텍쳐 -> 분산 어플리케이션으로 쉽게 전환 가능 \n",
    "\n",
    "- 각각의 프로세스가 자신만의 메모리 공간을 사용하기 떄문에, 프로세스간 데이터 교환을 위해 multiprocessing.Queue 객체를 새용(Pipe 객체도 사용 가능)"
   ]
  },
  {
   "attachments": {},
   "cell_type": "markdown",
   "metadata": {},
   "source": [
    "### Conclusion\n",
    "\n",
    "- 병렬처리를 하는 2가지 작업 - Multi Thread, Multi Processing \n",
    "\n",
    "- 쓰레드는 가볍지만 GIL로 인해서 한번에 하나의 쓰레드에서만 작동하여 CPU작업이 적고 I/O 작업이 많은 병렬처리 프로그램에 사용하면 효율 증가\n",
    "\n",
    "- 프로세스는 각자가 고유한 메모리 영역을 가지기 때문에 더 많은 메모리를 필요로 하지만, 각각 프로세스에서 병렬로 CPU작업 가능, 이를 통해 분산 처리 프로그래밍 구현 가능 "
   ]
  },
  {
   "attachments": {},
   "cell_type": "markdown",
   "metadata": {},
   "source": [
    "### 추가 MultiProcessing Technics \n",
    "\n",
    "- 쓰레드의 동기화 도구들 모두 지원 \n",
    "    - thread -> multiprocessing: Condition, Event, Lock, RLock, Semaphore"
   ]
  },
  {
   "cell_type": "markdown",
   "metadata": {},
   "source": []
  }
 ],
 "metadata": {
  "kernelspec": {
   "display_name": "Python 3",
   "language": "python",
   "name": "python3"
  },
  "language_info": {
   "codemirror_mode": {
    "name": "ipython",
    "version": 3
   },
   "file_extension": ".py",
   "mimetype": "text/x-python",
   "name": "python",
   "nbconvert_exporter": "python",
   "pygments_lexer": "ipython3",
   "version": "3.10.5"
  },
  "orig_nbformat": 4,
  "vscode": {
   "interpreter": {
    "hash": "e89c93e4c07d4ac8f065cea982a638287e1c61026788fcbbad7e0263e2130583"
   }
  }
 },
 "nbformat": 4,
 "nbformat_minor": 2
}
