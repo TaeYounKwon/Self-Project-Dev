{
 "cells": [
  {
   "attachments": {},
   "cell_type": "markdown",
   "metadata": {},
   "source": [
    "### Base Coding"
   ]
  },
  {
   "cell_type": "code",
   "execution_count": 1,
   "metadata": {},
   "outputs": [],
   "source": [
    "import time"
   ]
  },
  {
   "cell_type": "code",
   "execution_count": 2,
   "metadata": {},
   "outputs": [],
   "source": [
    "def do_something():\n",
    "    print('Sleeping 1 seconds')\n",
    "    time.sleep(1)\n",
    "    print('Done Sleeping...')"
   ]
  },
  {
   "cell_type": "code",
   "execution_count": 3,
   "metadata": {},
   "outputs": [
    {
     "name": "stdout",
     "output_type": "stream",
     "text": [
      "Sleeping 1 seconds\n",
      "Done Sleeping...\n",
      "Sleeping 1 seconds\n",
      "Done Sleeping...\n",
      "Sleeping 1 seconds\n",
      "Done Sleeping...\n",
      "Sleeping 1 seconds\n",
      "Done Sleeping...\n",
      "Sleeping 1 seconds\n",
      "Done Sleeping...\n",
      "Sleeping 1 seconds\n",
      "Done Sleeping...\n",
      "Sleeping 1 seconds\n",
      "Done Sleeping...\n",
      "Sleeping 1 seconds\n",
      "Done Sleeping...\n",
      "Sleeping 1 seconds\n",
      "Done Sleeping...\n",
      "Sleeping 1 seconds\n",
      "Done Sleeping...\n",
      "Finished in 10.05 second(s)\n"
     ]
    }
   ],
   "source": [
    "start = time.perf_counter()\n",
    "for _ in range(10):\n",
    "    do_something()\n",
    "finish = time.perf_counter()\n",
    "\n",
    "print(f'Finished in {round(finish-start, 2)} second(s)')"
   ]
  },
  {
   "attachments": {},
   "cell_type": "markdown",
   "metadata": {},
   "source": [
    "### Using Multi-Threading"
   ]
  },
  {
   "cell_type": "code",
   "execution_count": 7,
   "metadata": {},
   "outputs": [],
   "source": [
    "# threading 모듈 \n",
    "import threading"
   ]
  },
  {
   "cell_type": "code",
   "execution_count": 6,
   "metadata": {},
   "outputs": [
    {
     "name": "stdout",
     "output_type": "stream",
     "text": [
      "Sleeping 1 seconds\n",
      "Sleeping 1 seconds\n",
      "Sleeping 1 seconds\n",
      "Sleeping 1 seconds\n",
      "Sleeping 1 seconds\n",
      "Sleeping 1 seconds\n",
      "Sleeping 1 seconds\n",
      "Sleeping 1 seconds\n",
      "Sleeping 1 seconds\n",
      "Sleeping 1 seconds\n",
      "Done Sleeping...Done Sleeping...\n",
      "\n",
      "Done Sleeping...\n",
      "Done Sleeping...\n",
      "Done Sleeping...\n",
      "Done Sleeping...\n",
      "Done Sleeping...\n",
      "Done Sleeping...\n",
      "Done Sleeping...\n",
      "Done Sleeping...\n",
      "Finished in 1.03 second(s)\n"
     ]
    }
   ],
   "source": [
    "start = time.perf_counter()\n",
    "threads = []\n",
    "\n",
    "#쓰레드 생성\n",
    "for _ in range(10):\n",
    "    t = threading.Thread(target=do_something) # 쓰레드가 실행할 함수를 target인자에 넣어줌\n",
    "    t.start() # 쓰레드 시작\n",
    "    threads.append(t)\n",
    "    \n",
    "for thread in threads:\n",
    "    thread.join() # 쓰레드 실행 완료 후 다음코드를 실행시키기 위해 join\n",
    "finish = time.perf_counter()\n",
    "\n",
    "print(f'Finished in {round(finish-start, 2)} second(s)')\n"
   ]
  },
  {
   "attachments": {},
   "cell_type": "markdown",
   "metadata": {},
   "source": [
    "### Concurrent 모듈 사용법"
   ]
  },
  {
   "cell_type": "code",
   "execution_count": 8,
   "metadata": {},
   "outputs": [],
   "source": [
    "import time\n",
    "from concurrent import futures "
   ]
  },
  {
   "cell_type": "code",
   "execution_count": 10,
   "metadata": {},
   "outputs": [],
   "source": [
    "def do_something():\n",
    "    print('Sleeping 1 seconds')\n",
    "    time.sleep(1)\n",
    "    \n",
    "    #함수의 리턴값을 모아둘 것이므로 print대신 return으로 변경\n",
    "    return 'Done Sleeping...' "
   ]
  },
  {
   "cell_type": "code",
   "execution_count": 11,
   "metadata": {},
   "outputs": [
    {
     "name": "stdout",
     "output_type": "stream",
     "text": [
      "Sleeping 1 seconds\n",
      "Sleeping 1 seconds\n",
      "Sleeping 1 seconds\n",
      "Sleeping 1 seconds\n",
      "Sleeping 1 seconds\n",
      "Sleeping 1 seconds\n",
      "Sleeping 1 seconds\n",
      "Sleeping 1 seconds\n",
      "Sleeping 1 seconds\n",
      "Sleeping 1 seconds\n",
      "Done Sleeping...\n",
      "Done Sleeping...\n",
      "Done Sleeping...\n",
      "Done Sleeping...\n",
      "Done Sleeping...\n",
      "Done Sleeping...\n",
      "Done Sleeping...\n",
      "Done Sleeping...\n",
      "Done Sleeping...\n",
      "Done Sleeping...\n",
      "Finished in 1.02 second(s)\n"
     ]
    }
   ],
   "source": [
    "start = time.perf_counter()\n",
    "\n",
    "#with문을 사용해서 Thread Pool 생성\n",
    "with futures.ThreadPoolExecutor() as executor:\n",
    "    results = [executor.submit(do_something) for _ in range(10)]\n",
    "\n",
    "for f in futures.as_completed(results):\n",
    "    print(f.result())\n",
    "\n",
    "finish = time.perf_counter()\n",
    "\n",
    "print(f'Finished in {round(finish-start, 2)} second(s)')"
   ]
  },
  {
   "attachments": {},
   "cell_type": "markdown",
   "metadata": {},
   "source": [
    "### testing Multi-Thread"
   ]
  },
  {
   "cell_type": "code",
   "execution_count": 14,
   "metadata": {},
   "outputs": [],
   "source": [
    "def cal_sum(input_list):\n",
    "    res = 0\n",
    "    for i in range(input_list[0], input_list[1]+1):\n",
    "        res += i\n",
    "    return res"
   ]
  },
  {
   "cell_type": "code",
   "execution_count": 15,
   "metadata": {},
   "outputs": [
    {
     "name": "stdout",
     "output_type": "stream",
     "text": [
      "5000000050000000\n",
      "Finished in 2.88 second(s)\n"
     ]
    }
   ],
   "source": [
    "start = time.perf_counter()\n",
    "\n",
    "results = cal_sum([1,100000000])\n",
    "print(results)\n",
    "\n",
    "finish = time.perf_counter()\n",
    "\n",
    "print(f'Finished in {round(finish-start, 2)} second(s)')\n"
   ]
  },
  {
   "attachments": {},
   "cell_type": "markdown",
   "metadata": {},
   "source": [
    "### using Multi-Thread"
   ]
  },
  {
   "cell_type": "code",
   "execution_count": 16,
   "metadata": {},
   "outputs": [
    {
     "name": "stdout",
     "output_type": "stream",
     "text": [
      "5000000050000000\n",
      "Finished in 2.93 second(s)\n"
     ]
    }
   ],
   "source": [
    "start = time.perf_counter()\n",
    "\n",
    "with futures.ThreadPoolExecutor() as executor:\n",
    "    sub_routine = [[1,100000000//2], [100000000//2+1,100000000]]     \n",
    "    results = executor.map(cal_sum, sub_routine)\n",
    "\n",
    "print(sum(results))\n",
    "\n",
    "finish = time.perf_counter()\n",
    "\n",
    "print(f'Finished in {round(finish-start, 2)} second(s)')"
   ]
  },
  {
   "attachments": {},
   "cell_type": "markdown",
   "metadata": {},
   "source": [
    "### Result\n",
    "\n",
    "- 파이썬의 GIL(Global Interpreter Lock)으로 인하여 쓰레드 하나에 CPU자원을 다 쓰기 때문에 시간 절감 효과가 크지 않음\n",
    "\n",
    "- 위의 do_something함수에서 시간을 아낄 수 있었던 것은 단순 입 출력 함수였기 때문에 \n",
    "\n",
    "- 반복 작업이 I/O 작업(입 출력, 파일 다운로드) 으로 이루어져 있으면 멀티 쓰레드 OK\n",
    "\n",
    "- 파일을 Multi-Thread를 사용하여 CVS파일을 적는 경우 효과를 볼 수 없음, 시간 증가"
   ]
  }
 ],
 "metadata": {
  "kernelspec": {
   "display_name": "Python 3",
   "language": "python",
   "name": "python3"
  },
  "language_info": {
   "codemirror_mode": {
    "name": "ipython",
    "version": 3
   },
   "file_extension": ".py",
   "mimetype": "text/x-python",
   "name": "python",
   "nbconvert_exporter": "python",
   "pygments_lexer": "ipython3",
   "version": "3.10.5"
  },
  "orig_nbformat": 4,
  "vscode": {
   "interpreter": {
    "hash": "e89c93e4c07d4ac8f065cea982a638287e1c61026788fcbbad7e0263e2130583"
   }
  }
 },
 "nbformat": 4,
 "nbformat_minor": 2
}
