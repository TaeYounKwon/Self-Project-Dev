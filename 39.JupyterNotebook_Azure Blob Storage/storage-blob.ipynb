{
 "cells": [
  {
   "cell_type": "code",
   "execution_count": 3,
   "metadata": {},
   "outputs": [],
   "source": [
    "import os, uuid\n",
    "import warnings\n",
    "import numpy as np\n",
    "import pandas as pd\n",
    "import matplotlib.pyplot as plt\n",
    "warnings.filterwarnings('ignore')"
   ]
  },
  {
   "cell_type": "code",
   "execution_count": 4,
   "metadata": {},
   "outputs": [
    {
     "name": "stdout",
     "output_type": "stream",
     "text": [
      "Requirement already satisfied: azure-storage-blob in c:\\users\\tempe\\appdata\\local\\programs\\python\\python310\\lib\\site-packages (12.14.1)\n",
      "Requirement already satisfied: azure-core<2.0.0,>=1.24.2 in c:\\users\\tempe\\appdata\\local\\programs\\python\\python310\\lib\\site-packages (from azure-storage-blob) (1.26.0)\n",
      "Requirement already satisfied: msrest>=0.7.1 in c:\\users\\tempe\\appdata\\local\\programs\\python\\python310\\lib\\site-packages (from azure-storage-blob) (0.7.1)\n",
      "Requirement already satisfied: cryptography>=2.1.4 in c:\\users\\tempe\\appdata\\local\\programs\\python\\python310\\lib\\site-packages (from azure-storage-blob) (38.0.3)\n",
      "Requirement already satisfied: six>=1.11.0 in c:\\users\\tempe\\appdata\\local\\programs\\python\\python310\\lib\\site-packages (from azure-core<2.0.0,>=1.24.2->azure-storage-blob) (1.16.0)\n",
      "Requirement already satisfied: requests>=2.18.4 in c:\\users\\tempe\\appdata\\local\\programs\\python\\python310\\lib\\site-packages (from azure-core<2.0.0,>=1.24.2->azure-storage-blob) (2.28.1)\n",
      "Requirement already satisfied: typing-extensions>=4.0.1 in c:\\users\\tempe\\appdata\\local\\programs\\python\\python310\\lib\\site-packages (from azure-core<2.0.0,>=1.24.2->azure-storage-blob) (4.4.0)\n",
      "Requirement already satisfied: cffi>=1.12 in c:\\users\\tempe\\appdata\\local\\programs\\python\\python310\\lib\\site-packages (from cryptography>=2.1.4->azure-storage-blob) (1.15.1)\n",
      "Requirement already satisfied: certifi>=2017.4.17 in c:\\users\\tempe\\appdata\\local\\programs\\python\\python310\\lib\\site-packages (from msrest>=0.7.1->azure-storage-blob) (2022.9.24)\n",
      "Requirement already satisfied: requests-oauthlib>=0.5.0 in c:\\users\\tempe\\appdata\\local\\programs\\python\\python310\\lib\\site-packages (from msrest>=0.7.1->azure-storage-blob) (1.3.1)\n",
      "Requirement already satisfied: isodate>=0.6.0 in c:\\users\\tempe\\appdata\\local\\programs\\python\\python310\\lib\\site-packages (from msrest>=0.7.1->azure-storage-blob) (0.6.1)\n",
      "Requirement already satisfied: pycparser in c:\\users\\tempe\\appdata\\local\\programs\\python\\python310\\lib\\site-packages (from cffi>=1.12->cryptography>=2.1.4->azure-storage-blob) (2.21)\n",
      "Requirement already satisfied: urllib3<1.27,>=1.21.1 in c:\\users\\tempe\\appdata\\local\\programs\\python\\python310\\lib\\site-packages (from requests>=2.18.4->azure-core<2.0.0,>=1.24.2->azure-storage-blob) (1.26.12)\n",
      "Requirement already satisfied: charset-normalizer<3,>=2 in c:\\users\\tempe\\appdata\\local\\programs\\python\\python310\\lib\\site-packages (from requests>=2.18.4->azure-core<2.0.0,>=1.24.2->azure-storage-blob) (2.1.1)\n",
      "Requirement already satisfied: idna<4,>=2.5 in c:\\users\\tempe\\appdata\\local\\programs\\python\\python310\\lib\\site-packages (from requests>=2.18.4->azure-core<2.0.0,>=1.24.2->azure-storage-blob) (3.4)\n",
      "Requirement already satisfied: oauthlib>=3.0.0 in c:\\users\\tempe\\appdata\\local\\programs\\python\\python310\\lib\\site-packages (from requests-oauthlib>=0.5.0->msrest>=0.7.1->azure-storage-blob) (3.2.1)\n"
     ]
    },
    {
     "name": "stderr",
     "output_type": "stream",
     "text": [
      "WARNING: You are using pip version 22.0.4; however, version 22.3.1 is available.\n",
      "You should consider upgrading via the 'C:\\Users\\tempe\\AppData\\Local\\Programs\\Python\\Python310\\python.exe -m pip install --upgrade pip' command.\n"
     ]
    }
   ],
   "source": [
    "!pip install azure-storage-blob"
   ]
  },
  {
   "cell_type": "code",
   "execution_count": 5,
   "metadata": {},
   "outputs": [],
   "source": [
    "# Bring necessary packages\n",
    "from azure.storage.blob import BlobServiceClient, BlobClient, ContainerClient"
   ]
  },
  {
   "cell_type": "markdown",
   "metadata": {},
   "source": [
    "Azure Devops 가면 key가 2개가 있는데\n",
    "\n",
    "원래 작업중 코드를 짠다면, 첫번째 키 값이 실패할 경우를 대비해서 2번째 연결하는 코드또한 만들어 놓아야함!\n",
    "\n",
    "일단 간단한 작업임으로, key1의 연결문자열을 통해 연결"
   ]
  },
  {
   "cell_type": "code",
   "execution_count": 7,
   "metadata": {},
   "outputs": [],
   "source": [
    "# Connect to Blob Storage\n",
    "connect_string = 'key1의 열결문자열'\n",
    "\n",
    "blob_service_client = BlobServiceClient.from_connection_string(connect_string) # create Connected Blob Client"
   ]
  },
  {
   "cell_type": "code",
   "execution_count": 10,
   "metadata": {},
   "outputs": [
    {
     "name": "stdout",
     "output_type": "stream",
     "text": [
      "2d8371c1-a622-4ae0-920f-dfe2059991b5\n"
     ]
    }
   ],
   "source": [
    "# Create New Container \n",
    "container_name = str(uuid.uuid4()) # 겹치지 않는 난수 문자열을 생성\n",
    "print(container_name)"
   ]
  },
  {
   "cell_type": "code",
   "execution_count": 11,
   "metadata": {},
   "outputs": [],
   "source": [
    "container_client = blob_service_client.create_container(container_name) # 위의 난수 문자들을 활용해서 컨테이너 생성"
   ]
  },
  {
   "cell_type": "code",
   "execution_count": 12,
   "metadata": {},
   "outputs": [
    {
     "data": {
      "text/plain": [
       "'./data\\\\edbdcaba-c172-4f82-8566-a35318df36e5.txt'"
      ]
     },
     "execution_count": 12,
     "metadata": {},
     "output_type": "execute_result"
    }
   ],
   "source": [
    "# Upload the data to the container\n",
    "local_path = './data'\n",
    "os.mkdir(local_path) # create new folder in the directory\n",
    "\n",
    "local_file_name = str(uuid.uuid4()) + '.txt'\n",
    "upload_file_path = os.path.join(local_path, local_file_name) \n",
    "upload_file_path"
   ]
  },
  {
   "cell_type": "code",
   "execution_count": 13,
   "metadata": {},
   "outputs": [],
   "source": [
    "# Prepare the data file to upload\n",
    "file = open(file=upload_file_path, mode='w')\n",
    "file.write('Hello Azure Storage!')\n",
    "file.close()"
   ]
  },
  {
   "cell_type": "code",
   "execution_count": 14,
   "metadata": {},
   "outputs": [],
   "source": [
    "# 새로운 blob 클라이언트 생성\n",
    "blob_client = blob_service_client.get_blob_client( container = container_name, blob = local_file_name) "
   ]
  },
  {
   "cell_type": "code",
   "execution_count": 16,
   "metadata": {},
   "outputs": [
    {
     "ename": "ResourceExistsError",
     "evalue": "The specified blob already exists.\nRequestId:4936d598-801e-002f-0cc5-04a557000000\nTime:2022-11-30T14:12:20.1586923Z\nErrorCode:BlobAlreadyExists\nContent: <?xml version=\"1.0\" encoding=\"utf-8\"?><Error><Code>BlobAlreadyExists</Code><Message>The specified blob already exists.\nRequestId:4936d598-801e-002f-0cc5-04a557000000\nTime:2022-11-30T14:12:20.1586923Z</Message></Error>",
     "output_type": "error",
     "traceback": [
      "\u001b[1;31m---------------------------------------------------------------------------\u001b[0m",
      "\u001b[1;31mResourceExistsError\u001b[0m                       Traceback (most recent call last)",
      "Cell \u001b[1;32mIn [16], line 4\u001b[0m\n\u001b[0;32m      1\u001b[0m \u001b[39m# *** 실질적인 업로딩 코드 ***\u001b[39;00m\n\u001b[0;32m      2\u001b[0m \u001b[39m# binary 단위로 텍스트를 읽어들여서 파일을 업로드\u001b[39;00m\n\u001b[0;32m      3\u001b[0m \u001b[39mwith\u001b[39;00m \u001b[39mopen\u001b[39m(file\u001b[39m=\u001b[39mupload_file_path, mode\u001b[39m=\u001b[39m\u001b[39m'\u001b[39m\u001b[39mrb\u001b[39m\u001b[39m'\u001b[39m) \u001b[39mas\u001b[39;00m data:\n\u001b[1;32m----> 4\u001b[0m     blob_client\u001b[39m.\u001b[39;49mupload_blob(data)\n",
      "File \u001b[1;32mc:\\Users\\tempe\\AppData\\Local\\Programs\\Python\\Python310\\lib\\site-packages\\azure\\core\\tracing\\decorator.py:78\u001b[0m, in \u001b[0;36mdistributed_trace.<locals>.decorator.<locals>.wrapper_use_tracer\u001b[1;34m(*args, **kwargs)\u001b[0m\n\u001b[0;32m     76\u001b[0m span_impl_type \u001b[39m=\u001b[39m settings\u001b[39m.\u001b[39mtracing_implementation()\n\u001b[0;32m     77\u001b[0m \u001b[39mif\u001b[39;00m span_impl_type \u001b[39mis\u001b[39;00m \u001b[39mNone\u001b[39;00m:\n\u001b[1;32m---> 78\u001b[0m     \u001b[39mreturn\u001b[39;00m func(\u001b[39m*\u001b[39margs, \u001b[39m*\u001b[39m\u001b[39m*\u001b[39mkwargs)\n\u001b[0;32m     80\u001b[0m \u001b[39m# Merge span is parameter is set, but only if no explicit parent are passed\u001b[39;00m\n\u001b[0;32m     81\u001b[0m \u001b[39mif\u001b[39;00m merge_span \u001b[39mand\u001b[39;00m \u001b[39mnot\u001b[39;00m passed_in_parent:\n",
      "File \u001b[1;32mc:\\Users\\tempe\\AppData\\Local\\Programs\\Python\\Python310\\lib\\site-packages\\azure\\storage\\blob\\_blob_client.py:742\u001b[0m, in \u001b[0;36mBlobClient.upload_blob\u001b[1;34m(self, data, blob_type, length, metadata, **kwargs)\u001b[0m\n\u001b[0;32m    735\u001b[0m options \u001b[39m=\u001b[39m \u001b[39mself\u001b[39m\u001b[39m.\u001b[39m_upload_blob_options(\n\u001b[0;32m    736\u001b[0m     data,\n\u001b[0;32m    737\u001b[0m     blob_type\u001b[39m=\u001b[39mblob_type,\n\u001b[0;32m    738\u001b[0m     length\u001b[39m=\u001b[39mlength,\n\u001b[0;32m    739\u001b[0m     metadata\u001b[39m=\u001b[39mmetadata,\n\u001b[0;32m    740\u001b[0m     \u001b[39m*\u001b[39m\u001b[39m*\u001b[39mkwargs)\n\u001b[0;32m    741\u001b[0m \u001b[39mif\u001b[39;00m blob_type \u001b[39m==\u001b[39m BlobType\u001b[39m.\u001b[39mBlockBlob:\n\u001b[1;32m--> 742\u001b[0m     \u001b[39mreturn\u001b[39;00m upload_block_blob(\u001b[39m*\u001b[39m\u001b[39m*\u001b[39moptions)\n\u001b[0;32m    743\u001b[0m \u001b[39mif\u001b[39;00m blob_type \u001b[39m==\u001b[39m BlobType\u001b[39m.\u001b[39mPageBlob:\n\u001b[0;32m    744\u001b[0m     \u001b[39mreturn\u001b[39;00m upload_page_blob(\u001b[39m*\u001b[39m\u001b[39m*\u001b[39moptions)\n",
      "File \u001b[1;32mc:\\Users\\tempe\\AppData\\Local\\Programs\\Python\\Python310\\lib\\site-packages\\azure\\storage\\blob\\_upload_helpers.py:197\u001b[0m, in \u001b[0;36mupload_block_blob\u001b[1;34m(client, data, stream, length, overwrite, headers, validate_content, max_concurrency, blob_settings, encryption_options, **kwargs)\u001b[0m\n\u001b[0;32m    195\u001b[0m \u001b[39mexcept\u001b[39;00m HttpResponseError \u001b[39mas\u001b[39;00m error:\n\u001b[0;32m    196\u001b[0m     \u001b[39mtry\u001b[39;00m:\n\u001b[1;32m--> 197\u001b[0m         process_storage_error(error)\n\u001b[0;32m    198\u001b[0m     \u001b[39mexcept\u001b[39;00m ResourceModifiedError \u001b[39mas\u001b[39;00m mod_error:\n\u001b[0;32m    199\u001b[0m         \u001b[39mif\u001b[39;00m \u001b[39mnot\u001b[39;00m overwrite:\n",
      "File \u001b[1;32mc:\\Users\\tempe\\AppData\\Local\\Programs\\Python\\Python310\\lib\\site-packages\\azure\\storage\\blob\\_shared\\response_handlers.py:185\u001b[0m, in \u001b[0;36mprocess_storage_error\u001b[1;34m(storage_error)\u001b[0m\n\u001b[0;32m    182\u001b[0m error\u001b[39m.\u001b[39margs \u001b[39m=\u001b[39m (error\u001b[39m.\u001b[39mmessage,)\n\u001b[0;32m    183\u001b[0m \u001b[39mtry\u001b[39;00m:\n\u001b[0;32m    184\u001b[0m     \u001b[39m# `from None` prevents us from double printing the exception (suppresses generated layer error context)\u001b[39;00m\n\u001b[1;32m--> 185\u001b[0m     exec(\u001b[39m\"\u001b[39;49m\u001b[39mraise error from None\u001b[39;49m\u001b[39m\"\u001b[39;49m)   \u001b[39m# pylint: disable=exec-used # nosec\u001b[39;00m\n\u001b[0;32m    186\u001b[0m \u001b[39mexcept\u001b[39;00m \u001b[39mSyntaxError\u001b[39;00m:\n\u001b[0;32m    187\u001b[0m     \u001b[39mraise\u001b[39;00m error\n",
      "File \u001b[1;32m<string>:1\u001b[0m\n",
      "File \u001b[1;32mc:\\Users\\tempe\\AppData\\Local\\Programs\\Python\\Python310\\lib\\site-packages\\azure\\storage\\blob\\_upload_helpers.py:107\u001b[0m, in \u001b[0;36mupload_block_blob\u001b[1;34m(client, data, stream, length, overwrite, headers, validate_content, max_concurrency, blob_settings, encryption_options, **kwargs)\u001b[0m\n\u001b[0;32m    104\u001b[0m     encryption_data, data \u001b[39m=\u001b[39m encrypt_blob(data, encryption_options[\u001b[39m'\u001b[39m\u001b[39mkey\u001b[39m\u001b[39m'\u001b[39m], encryption_options[\u001b[39m'\u001b[39m\u001b[39mversion\u001b[39m\u001b[39m'\u001b[39m])\n\u001b[0;32m    105\u001b[0m     headers[\u001b[39m'\u001b[39m\u001b[39mx-ms-meta-encryptiondata\u001b[39m\u001b[39m'\u001b[39m] \u001b[39m=\u001b[39m encryption_data\n\u001b[1;32m--> 107\u001b[0m response \u001b[39m=\u001b[39m client\u001b[39m.\u001b[39mupload(\n\u001b[0;32m    108\u001b[0m     body\u001b[39m=\u001b[39mdata,\n\u001b[0;32m    109\u001b[0m     content_length\u001b[39m=\u001b[39madjusted_count,\n\u001b[0;32m    110\u001b[0m     blob_http_headers\u001b[39m=\u001b[39mblob_headers,\n\u001b[0;32m    111\u001b[0m     headers\u001b[39m=\u001b[39mheaders,\n\u001b[0;32m    112\u001b[0m     \u001b[39mcls\u001b[39m\u001b[39m=\u001b[39mreturn_response_headers,\n\u001b[0;32m    113\u001b[0m     validate_content\u001b[39m=\u001b[39mvalidate_content,\n\u001b[0;32m    114\u001b[0m     data_stream_total\u001b[39m=\u001b[39madjusted_count,\n\u001b[0;32m    115\u001b[0m     upload_stream_current\u001b[39m=\u001b[39m\u001b[39m0\u001b[39m,\n\u001b[0;32m    116\u001b[0m     tier\u001b[39m=\u001b[39mtier\u001b[39m.\u001b[39mvalue \u001b[39mif\u001b[39;00m tier \u001b[39melse\u001b[39;00m \u001b[39mNone\u001b[39;00m,\n\u001b[0;32m    117\u001b[0m     blob_tags_string\u001b[39m=\u001b[39mblob_tags_string,\n\u001b[0;32m    118\u001b[0m     immutability_policy_expiry\u001b[39m=\u001b[39mimmutability_policy_expiry,\n\u001b[0;32m    119\u001b[0m     immutability_policy_mode\u001b[39m=\u001b[39mimmutability_policy_mode,\n\u001b[0;32m    120\u001b[0m     legal_hold\u001b[39m=\u001b[39mlegal_hold,\n\u001b[0;32m    121\u001b[0m     \u001b[39m*\u001b[39m\u001b[39m*\u001b[39mkwargs)\n\u001b[0;32m    123\u001b[0m \u001b[39mif\u001b[39;00m progress_hook:\n\u001b[0;32m    124\u001b[0m     progress_hook(adjusted_count, adjusted_count)\n",
      "File \u001b[1;32mc:\\Users\\tempe\\AppData\\Local\\Programs\\Python\\Python310\\lib\\site-packages\\azure\\core\\tracing\\decorator.py:78\u001b[0m, in \u001b[0;36mdistributed_trace.<locals>.decorator.<locals>.wrapper_use_tracer\u001b[1;34m(*args, **kwargs)\u001b[0m\n\u001b[0;32m     76\u001b[0m span_impl_type \u001b[39m=\u001b[39m settings\u001b[39m.\u001b[39mtracing_implementation()\n\u001b[0;32m     77\u001b[0m \u001b[39mif\u001b[39;00m span_impl_type \u001b[39mis\u001b[39;00m \u001b[39mNone\u001b[39;00m:\n\u001b[1;32m---> 78\u001b[0m     \u001b[39mreturn\u001b[39;00m func(\u001b[39m*\u001b[39margs, \u001b[39m*\u001b[39m\u001b[39m*\u001b[39mkwargs)\n\u001b[0;32m     80\u001b[0m \u001b[39m# Merge span is parameter is set, but only if no explicit parent are passed\u001b[39;00m\n\u001b[0;32m     81\u001b[0m \u001b[39mif\u001b[39;00m merge_span \u001b[39mand\u001b[39;00m \u001b[39mnot\u001b[39;00m passed_in_parent:\n",
      "File \u001b[1;32mc:\\Users\\tempe\\AppData\\Local\\Programs\\Python\\Python310\\lib\\site-packages\\azure\\storage\\blob\\_generated\\operations\\_block_blob_operations.py:852\u001b[0m, in \u001b[0;36mBlockBlobOperations.upload\u001b[1;34m(self, content_length, body, timeout, transactional_content_md5, metadata, tier, request_id_parameter, blob_tags_string, immutability_policy_expiry, immutability_policy_mode, legal_hold, transactional_content_crc64, blob_http_headers, lease_access_conditions, cpk_info, cpk_scope_info, modified_access_conditions, **kwargs)\u001b[0m\n\u001b[0;32m    849\u001b[0m response \u001b[39m=\u001b[39m pipeline_response\u001b[39m.\u001b[39mhttp_response\n\u001b[0;32m    851\u001b[0m \u001b[39mif\u001b[39;00m response\u001b[39m.\u001b[39mstatus_code \u001b[39mnot\u001b[39;00m \u001b[39min\u001b[39;00m [\u001b[39m201\u001b[39m]:\n\u001b[1;32m--> 852\u001b[0m     map_error(status_code\u001b[39m=\u001b[39;49mresponse\u001b[39m.\u001b[39;49mstatus_code, response\u001b[39m=\u001b[39;49mresponse, error_map\u001b[39m=\u001b[39;49merror_map)\n\u001b[0;32m    853\u001b[0m     error \u001b[39m=\u001b[39m \u001b[39mself\u001b[39m\u001b[39m.\u001b[39m_deserialize\u001b[39m.\u001b[39mfailsafe_deserialize(_models\u001b[39m.\u001b[39mStorageError, pipeline_response)\n\u001b[0;32m    854\u001b[0m     \u001b[39mraise\u001b[39;00m HttpResponseError(response\u001b[39m=\u001b[39mresponse, model\u001b[39m=\u001b[39merror)\n",
      "File \u001b[1;32mc:\\Users\\tempe\\AppData\\Local\\Programs\\Python\\Python310\\lib\\site-packages\\azure\\core\\exceptions.py:107\u001b[0m, in \u001b[0;36mmap_error\u001b[1;34m(status_code, response, error_map)\u001b[0m\n\u001b[0;32m    105\u001b[0m     \u001b[39mreturn\u001b[39;00m\n\u001b[0;32m    106\u001b[0m error \u001b[39m=\u001b[39m error_type(response\u001b[39m=\u001b[39mresponse)\n\u001b[1;32m--> 107\u001b[0m \u001b[39mraise\u001b[39;00m error\n",
      "\u001b[1;31mResourceExistsError\u001b[0m: The specified blob already exists.\nRequestId:4936d598-801e-002f-0cc5-04a557000000\nTime:2022-11-30T14:12:20.1586923Z\nErrorCode:BlobAlreadyExists\nContent: <?xml version=\"1.0\" encoding=\"utf-8\"?><Error><Code>BlobAlreadyExists</Code><Message>The specified blob already exists.\nRequestId:4936d598-801e-002f-0cc5-04a557000000\nTime:2022-11-30T14:12:20.1586923Z</Message></Error>"
     ]
    }
   ],
   "source": [
    "# *** 실질적인 업로딩 코드 ***\n",
    "# binary 단위로 텍스트를 읽어들여서 파일을 업로드\n",
    "with open(file=upload_file_path, mode='rb') as data:\n",
    "    blob_client.upload_blob(data)"
   ]
  },
  {
   "cell_type": "markdown",
   "metadata": {},
   "source": [
    "html파일을 업로딩 할 시, azure 서버를 통해서 웹사이트 제작 가능!!\n",
    "\n",
    "파일을 업로딩 해준 뒤, 액세스 수준 변경을 통해서 private -> blob or container로 변경해줘야지 올린 파일 다운로드 가능"
   ]
  },
  {
   "cell_type": "code",
   "execution_count": 17,
   "metadata": {},
   "outputs": [
    {
     "name": "stdout",
     "output_type": "stream",
     "text": [
      "\tedbdcaba-c172-4f82-8566-a35318df36e5.txt\n"
     ]
    }
   ],
   "source": [
    "# Check file list from the client\n",
    "blob_list = container_client.list_blobs()\n",
    "for blob in blob_list:\n",
    "    print('\\t' + blob.name)"
   ]
  },
  {
   "cell_type": "code",
   "execution_count": 20,
   "metadata": {},
   "outputs": [],
   "source": [
    "# File Donwload from the uploaded Azure Storage Client\n",
    "download_file_path  = os.path.join(local_path, str.replace(local_file_name, '.txt', 'DOWNLOAD.txt'))\n",
    "\n",
    "container_client = blob_service_client.get_container_client(container=container_name)\n",
    "\n",
    "# 파일이 날라올때 스트링으로 날라오기 때문에 \n",
    "with open(file=download_file_path, mode='wb') as download_file:\n",
    "    download_file.write(container_client.download_blob(blob.name).readall()) #어떤 파일을 다운받을지, 전체를 다운받으라고 세팅함"
   ]
  },
  {
   "cell_type": "markdown",
   "metadata": {},
   "source": [
    "data 파일을 확인해보면 original txt파일과 DONWLOAD된 파일을 확인 해 볼 수 있음!"
   ]
  },
  {
   "cell_type": "code",
   "execution_count": null,
   "metadata": {},
   "outputs": [],
   "source": [
    "# 실습한 자원의 정리\n",
    "print('Pree the Enter key to begin clean up')\n",
    "input()\n",
    "\n",
    "print('Deleting blob container...')\n",
    "container_client.delete_container()\n",
    "\n",
    "print('Delting the local source and downloaded files...')\n",
    "os.remove(upload_file_path)\n",
    "os.remove(download_file_path)\n",
    "os.rmdir(local_path)\n",
    "\n",
    "print('Done')"
   ]
  }
 ],
 "metadata": {
  "kernelspec": {
   "display_name": "Python 3.10.5 64-bit",
   "language": "python",
   "name": "python3"
  },
  "language_info": {
   "codemirror_mode": {
    "name": "ipython",
    "version": 3
   },
   "file_extension": ".py",
   "mimetype": "text/x-python",
   "name": "python",
   "nbconvert_exporter": "python",
   "pygments_lexer": "ipython3",
   "version": "3.10.5"
  },
  "orig_nbformat": 4,
  "vscode": {
   "interpreter": {
    "hash": "e89c93e4c07d4ac8f065cea982a638287e1c61026788fcbbad7e0263e2130583"
   }
  }
 },
 "nbformat": 4,
 "nbformat_minor": 2
}
