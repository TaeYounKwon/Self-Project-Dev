{
 "cells": [
  {
   "cell_type": "code",
   "execution_count": 1,
   "metadata": {},
   "outputs": [],
   "source": [
    "import cv2\n",
    "vidcap = cv2.VideoCapture('bird11.mp4') ## 다운받은 비디오 이름 \n",
    "success,image = vidcap.read()\n",
    "count = 0\n"
   ]
  },
  {
   "cell_type": "code",
   "execution_count": 2,
   "metadata": {},
   "outputs": [
    {
     "name": "stdout",
     "output_type": "stream",
     "text": [
      "Saved frame number : 60\n",
      "Saved frame0.jpg\n",
      "Saved frame number : 120\n",
      "Saved frame1.jpg\n",
      "Saved frame number : 180\n",
      "Saved frame2.jpg\n",
      "Saved frame number : 240\n",
      "Saved frame3.jpg\n",
      "Saved frame number : 300\n",
      "Saved frame4.jpg\n",
      "Saved frame number : 360\n",
      "Saved frame5.jpg\n",
      "Saved frame number : 420\n",
      "Saved frame6.jpg\n",
      "Saved frame number : 480\n",
      "Saved frame7.jpg\n",
      "Saved frame number : 540\n",
      "Saved frame8.jpg\n",
      "Saved frame number : 600\n",
      "Saved frame9.jpg\n",
      "Saved frame number : 660\n",
      "Saved frame10.jpg\n",
      "Saved frame number : 720\n",
      "Saved frame11.jpg\n",
      "Saved frame number : 780\n",
      "Saved frame12.jpg\n",
      "Saved frame number : 840\n",
      "Saved frame13.jpg\n",
      "Saved frame number : 900\n",
      "Saved frame14.jpg\n",
      "Saved frame number : 960\n",
      "Saved frame15.jpg\n",
      "Saved frame number : 1020\n",
      "Saved frame16.jpg\n",
      "Saved frame number : 1080\n",
      "Saved frame17.jpg\n",
      "Saved frame number : 1140\n",
      "Saved frame18.jpg\n",
      "Saved frame number : 1200\n",
      "Saved frame19.jpg\n",
      "Saved frame number : 1260\n",
      "Saved frame20.jpg\n",
      "Saved frame number : 1320\n",
      "Saved frame21.jpg\n",
      "Saved frame number : 1380\n",
      "Saved frame22.jpg\n",
      "Saved frame number : 1440\n",
      "Saved frame23.jpg\n",
      "Saved frame number : 1500\n",
      "Saved frame24.jpg\n",
      "Saved frame number : 1560\n",
      "Saved frame25.jpg\n",
      "Saved frame number : 1620\n",
      "Saved frame26.jpg\n",
      "Saved frame number : 1680\n",
      "Saved frame27.jpg\n",
      "Saved frame number : 1740\n",
      "Saved frame28.jpg\n",
      "Saved frame number : 1800\n",
      "Saved frame29.jpg\n",
      "Saved frame number : 1860\n",
      "Saved frame30.jpg\n",
      "Saved frame number : 1920\n",
      "Saved frame31.jpg\n",
      "Saved frame number : 1980\n",
      "Saved frame32.jpg\n",
      "Saved frame number : 2040\n",
      "Saved frame33.jpg\n",
      "Saved frame number : 2100\n",
      "Saved frame34.jpg\n",
      "Saved frame number : 2160\n",
      "Saved frame35.jpg\n",
      "Saved frame number : 2220\n",
      "Saved frame36.jpg\n",
      "Saved frame number : 2280\n",
      "Saved frame37.jpg\n",
      "Saved frame number : 2340\n",
      "Saved frame38.jpg\n",
      "Saved frame number : 2400\n",
      "Saved frame39.jpg\n",
      "Saved frame number : 2460\n",
      "Saved frame40.jpg\n",
      "Saved frame number : 2520\n",
      "Saved frame41.jpg\n",
      "Saved frame number : 2580\n",
      "Saved frame42.jpg\n",
      "Saved frame number : 2640\n",
      "Saved frame43.jpg\n",
      "Saved frame number : 2700\n",
      "Saved frame44.jpg\n",
      "Saved frame number : 2760\n",
      "Saved frame45.jpg\n",
      "Saved frame number : 2820\n",
      "Saved frame46.jpg\n",
      "Saved frame number : 2880\n",
      "Saved frame47.jpg\n",
      "Saved frame number : 2940\n",
      "Saved frame48.jpg\n",
      "Saved frame number : 3000\n",
      "Saved frame49.jpg\n"
     ]
    }
   ],
   "source": [
    "while(vidcap.isOpened()):\n",
    "    ret, image = vidcap.read()\n",
    " \n",
    "    if(int(vidcap.get(1)) % 60 == 0):\n",
    "        print('Saved frame number : ' + str(int(vidcap.get(1))))\n",
    "        cv2.imwrite(\"./image/birds90%d.jpg\" % count, image)\n",
    "        print('Saved frame%d.jpg' % count)\n",
    "        count += 1\n",
    "    \n"
   ]
  },
  {
   "cell_type": "code",
   "execution_count": null,
   "metadata": {},
   "outputs": [],
   "source": [
    "while success:\n",
    "  cv2.imwrite(\"data_%d.jpg\" % count, image)     # save frame as JPEG file      \n",
    "  success,image = vidcap.read()\n",
    "  print('Read a new frame: ', success)\n",
    "  count += 1"
   ]
  },
  {
   "cell_type": "code",
   "execution_count": null,
   "metadata": {},
   "outputs": [],
   "source": []
  }
 ],
 "metadata": {
  "kernelspec": {
   "display_name": "Python 3",
   "language": "python",
   "name": "python3"
  },
  "language_info": {
   "codemirror_mode": {
    "name": "ipython",
    "version": 3
   },
   "file_extension": ".py",
   "mimetype": "text/x-python",
   "name": "python",
   "nbconvert_exporter": "python",
   "pygments_lexer": "ipython3",
   "version": "3.10.5"
  },
  "orig_nbformat": 4,
  "vscode": {
   "interpreter": {
    "hash": "e89c93e4c07d4ac8f065cea982a638287e1c61026788fcbbad7e0263e2130583"
   }
  }
 },
 "nbformat": 4,
 "nbformat_minor": 2
}
