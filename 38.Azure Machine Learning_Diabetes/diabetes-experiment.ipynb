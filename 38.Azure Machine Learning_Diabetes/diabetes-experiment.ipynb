{
  "cells": [
    {
      "cell_type": "code",
      "source": [
        "import numpy as np\r\n",
        "import pandas as pd \r\n",
        "import matplotlib.pyplot as plt\r\n",
        "import warnings\r\n",
        "warnings.filterwarnings('ignore')"
      ],
      "outputs": [],
      "execution_count": 21,
      "metadata": {
        "jupyter": {
          "source_hidden": false,
          "outputs_hidden": false
        },
        "nteract": {
          "transient": {
            "deleting": false
          }
        },
        "gather": {
          "logged": 1669741810795
        }
      }
    },
    {
      "cell_type": "code",
      "source": [
        "from azureml.core import Workspace # azure machine learning에 이미 설치되어있는 api\r\n",
        "ws = Workspace.from_config() # 작업공간의 세팅값을 가져옴"
      ],
      "outputs": [],
      "execution_count": 5,
      "metadata": {
        "gather": {
          "logged": 1669741190659
        }
      }
    },
    {
      "cell_type": "code",
      "source": [
        "# Print azure machine learning info\r\n",
        "# 만약 파이썬을 통해서 한다면 아래 값을 다 찾아서 넣어줘야함함\r\n",
        "print('Workspace name: '+ws.name, 'Azure region' + ws.location, 'Subscription ID' + ws.subscription_id, 'Resource Group:' + ws.resource_group)"
      ],
      "outputs": [
        {
          "output_type": "stream",
          "name": "stdout",
          "text": "Workspace name: kweont Azure regionkoreacentral Subscription ID9d48b691-f278-4011-a9b7-2f877276c682 Resource Group:kweont\n"
        }
      ],
      "execution_count": 7,
      "metadata": {
        "jupyter": {
          "source_hidden": false,
          "outputs_hidden": false
        },
        "nteract": {
          "transient": {
            "deleting": false
          }
        },
        "gather": {
          "logged": 1669741194477
        }
      }
    },
    {
      "cell_type": "code",
      "source": [
        "# 실험 공간의 생성\r\n",
        "# Azure Machine Learning에서 눌러서 해왔던 작업들을 코드로 구현!\r\n",
        "from azureml.core import Experiment \r\n",
        "experiment = Experiment(workspace=ws, name='diabetes-experiment')\r\n",
        "experiment"
      ],
      "outputs": [
        {
          "output_type": "execute_result",
          "execution_count": 10,
          "data": {
            "text/plain": "Experiment(Name: diabetes-experiment,\nWorkspace: kweont)",
            "text/html": "<table style=\"width:100%\"><tr><th>Name</th><th>Workspace</th><th>Report Page</th><th>Docs Page</th></tr><tr><td>diabetes-experiment</td><td>kweont</td><td><a href=\"https://ml.azure.com/experiments/id/efff6005-7279-4276-886b-da3fd36244e1?wsid=/subscriptions/9d48b691-f278-4011-a9b7-2f877276c682/resourcegroups/kweont/workspaces/kweont&amp;tid=d7270324-ea10-47a1-ae5f-74dba073f8fd\" target=\"_blank\" rel=\"noopener\">Link to Azure Machine Learning studio</a></td><td><a href=\"https://docs.microsoft.com/en-us/python/api/azureml-core/azureml.core.experiment.Experiment?view=azure-ml-py\" target=\"_blank\" rel=\"noopener\">Link to Documentation</a></td></tr></table>"
          },
          "metadata": {}
        }
      ],
      "execution_count": 10,
      "metadata": {
        "jupyter": {
          "source_hidden": false,
          "outputs_hidden": false
        },
        "nteract": {
          "transient": {
            "deleting": false
          }
        },
        "gather": {
          "logged": 1669741269449
        }
      }
    },
    {
      "cell_type": "code",
      "source": [
        "from azureml.opendatasets import Diabetes \r\n",
        "from sklearn.model_selection import train_test_split # 데이터를 학습용, 실험용으로 나눌때 씀"
      ],
      "outputs": [],
      "execution_count": 14,
      "metadata": {
        "jupyter": {
          "source_hidden": false,
          "outputs_hidden": false
        },
        "nteract": {
          "transient": {
            "deleting": false
          }
        },
        "gather": {
          "logged": 1669741453914
        }
      }
    },
    {
      "cell_type": "code",
      "source": [
        "# 데이터를 불러옴 / NaN값은 드롭함\r\n",
        "x_df = Diabetes.get_tabular_dataset().to_pandas_dataframe().dropna()\r\n",
        "y_df = x_df.pop('Y') # label value, pop을 사용해서 데이터를 넘김\r\n",
        "x_df"
      ],
      "outputs": [
        {
          "output_type": "execute_result",
          "execution_count": 18,
          "data": {
            "text/plain": "     AGE  SEX   BMI      BP   S1     S2    S3    S4      S5   S6\n0     59    2  32.1  101.00  157   93.2  38.0  4.00  4.8598   87\n1     48    1  21.6   87.00  183  103.2  70.0  3.00  3.8918   69\n2     72    2  30.5   93.00  156   93.6  41.0  4.00  4.6728   85\n3     24    1  25.3   84.00  198  131.4  40.0  5.00  4.8903   89\n4     50    1  23.0  101.00  192  125.4  52.0  4.00  4.2905   80\n..   ...  ...   ...     ...  ...    ...   ...   ...     ...  ...\n437   60    2  28.2  112.00  185  113.8  42.0  4.00  4.9836   93\n438   47    2  24.9   75.00  225  166.0  42.0  5.00  4.4427  102\n439   60    2  24.9   99.67  162  106.6  43.0  3.77  4.1271   95\n440   36    1  30.0   95.00  201  125.2  42.0  4.79  5.1299   85\n441   36    1  19.6   71.00  250  133.2  97.0  3.00  4.5951   92\n\n[442 rows x 10 columns]",
            "text/html": "<div>\n<style scoped>\n    .dataframe tbody tr th:only-of-type {\n        vertical-align: middle;\n    }\n\n    .dataframe tbody tr th {\n        vertical-align: top;\n    }\n\n    .dataframe thead th {\n        text-align: right;\n    }\n</style>\n<table border=\"1\" class=\"dataframe\">\n  <thead>\n    <tr style=\"text-align: right;\">\n      <th></th>\n      <th>AGE</th>\n      <th>SEX</th>\n      <th>BMI</th>\n      <th>BP</th>\n      <th>S1</th>\n      <th>S2</th>\n      <th>S3</th>\n      <th>S4</th>\n      <th>S5</th>\n      <th>S6</th>\n    </tr>\n  </thead>\n  <tbody>\n    <tr>\n      <th>0</th>\n      <td>59</td>\n      <td>2</td>\n      <td>32.1</td>\n      <td>101.00</td>\n      <td>157</td>\n      <td>93.2</td>\n      <td>38.0</td>\n      <td>4.00</td>\n      <td>4.8598</td>\n      <td>87</td>\n    </tr>\n    <tr>\n      <th>1</th>\n      <td>48</td>\n      <td>1</td>\n      <td>21.6</td>\n      <td>87.00</td>\n      <td>183</td>\n      <td>103.2</td>\n      <td>70.0</td>\n      <td>3.00</td>\n      <td>3.8918</td>\n      <td>69</td>\n    </tr>\n    <tr>\n      <th>2</th>\n      <td>72</td>\n      <td>2</td>\n      <td>30.5</td>\n      <td>93.00</td>\n      <td>156</td>\n      <td>93.6</td>\n      <td>41.0</td>\n      <td>4.00</td>\n      <td>4.6728</td>\n      <td>85</td>\n    </tr>\n    <tr>\n      <th>3</th>\n      <td>24</td>\n      <td>1</td>\n      <td>25.3</td>\n      <td>84.00</td>\n      <td>198</td>\n      <td>131.4</td>\n      <td>40.0</td>\n      <td>5.00</td>\n      <td>4.8903</td>\n      <td>89</td>\n    </tr>\n    <tr>\n      <th>4</th>\n      <td>50</td>\n      <td>1</td>\n      <td>23.0</td>\n      <td>101.00</td>\n      <td>192</td>\n      <td>125.4</td>\n      <td>52.0</td>\n      <td>4.00</td>\n      <td>4.2905</td>\n      <td>80</td>\n    </tr>\n    <tr>\n      <th>...</th>\n      <td>...</td>\n      <td>...</td>\n      <td>...</td>\n      <td>...</td>\n      <td>...</td>\n      <td>...</td>\n      <td>...</td>\n      <td>...</td>\n      <td>...</td>\n      <td>...</td>\n    </tr>\n    <tr>\n      <th>437</th>\n      <td>60</td>\n      <td>2</td>\n      <td>28.2</td>\n      <td>112.00</td>\n      <td>185</td>\n      <td>113.8</td>\n      <td>42.0</td>\n      <td>4.00</td>\n      <td>4.9836</td>\n      <td>93</td>\n    </tr>\n    <tr>\n      <th>438</th>\n      <td>47</td>\n      <td>2</td>\n      <td>24.9</td>\n      <td>75.00</td>\n      <td>225</td>\n      <td>166.0</td>\n      <td>42.0</td>\n      <td>5.00</td>\n      <td>4.4427</td>\n      <td>102</td>\n    </tr>\n    <tr>\n      <th>439</th>\n      <td>60</td>\n      <td>2</td>\n      <td>24.9</td>\n      <td>99.67</td>\n      <td>162</td>\n      <td>106.6</td>\n      <td>43.0</td>\n      <td>3.77</td>\n      <td>4.1271</td>\n      <td>95</td>\n    </tr>\n    <tr>\n      <th>440</th>\n      <td>36</td>\n      <td>1</td>\n      <td>30.0</td>\n      <td>95.00</td>\n      <td>201</td>\n      <td>125.2</td>\n      <td>42.0</td>\n      <td>4.79</td>\n      <td>5.1299</td>\n      <td>85</td>\n    </tr>\n    <tr>\n      <th>441</th>\n      <td>36</td>\n      <td>1</td>\n      <td>19.6</td>\n      <td>71.00</td>\n      <td>250</td>\n      <td>133.2</td>\n      <td>97.0</td>\n      <td>3.00</td>\n      <td>4.5951</td>\n      <td>92</td>\n    </tr>\n  </tbody>\n</table>\n<p>442 rows × 10 columns</p>\n</div>"
          },
          "metadata": {}
        }
      ],
      "execution_count": 18,
      "metadata": {
        "jupyter": {
          "source_hidden": false,
          "outputs_hidden": false
        },
        "nteract": {
          "transient": {
            "deleting": false
          }
        },
        "gather": {
          "logged": 1669741648622
        }
      }
    },
    {
      "cell_type": "code",
      "source": [
        "# Divide the train and test set\r\n",
        "x_train, x_test, y_train, y_test = train_test_split(x_df,y_df, test_size=0.2, random_state = 66)\r\n",
        "print(x_train)"
      ],
      "outputs": [
        {
          "output_type": "stream",
          "name": "stdout",
          "text": "     AGE  SEX   BMI     BP   S1     S2    S3    S4      S5   S6\n440   36    1  30.0   95.0  201  125.2  42.0  4.79  5.1299   85\n389   47    2  26.5   70.0  181  104.8  63.0  3.00  4.1897   70\n5     23    1  22.6   89.0  139   64.8  61.0  2.00  4.1897   68\n289   28    2  31.5   83.0  228  149.4  38.0  6.00  5.3132   83\n101   53    2  22.2  113.0  197  115.2  67.0  3.00  4.3041  100\n..   ...  ...   ...    ...  ...    ...   ...   ...     ...  ...\n122   62    2  33.9  101.0  221  156.4  35.0  6.00  4.9972  103\n51    65    2  27.9  103.0  159   96.8  42.0  4.00  4.6151   86\n119   53    1  22.0   94.0  175   88.0  59.0  3.00  4.9416   98\n316   53    2  27.7   95.0  190  101.8  41.0  5.00  5.4638  101\n20    35    1  21.1   82.0  156   87.8  50.0  3.00  4.5109   95\n\n[353 rows x 10 columns]\n"
        }
      ],
      "execution_count": 19,
      "metadata": {
        "jupyter": {
          "source_hidden": false,
          "outputs_hidden": false
        },
        "nteract": {
          "transient": {
            "deleting": false
          }
        },
        "gather": {
          "logged": 1669741659096
        }
      }
    },
    {
      "cell_type": "code",
      "source": [
        "from sklearn.linear_model import Ridge # Will use linear_model\r\n",
        "from sklearn.metrics import mean_squared_error # Evaluation model\r\n",
        "from sklearn.externals import joblib\r\n",
        "import math"
      ],
      "outputs": [],
      "execution_count": 22,
      "metadata": {
        "jupyter": {
          "source_hidden": false,
          "outputs_hidden": false
        },
        "nteract": {
          "transient": {
            "deleting": false
          }
        },
        "gather": {
          "logged": 1669741815060
        }
      }
    },
    {
      "cell_type": "code",
      "source": [
        "# alphas 반복 value\r\n",
        "alphas = [0.1,0.2,0.3,0.4,0.5,0.6,0.7,0.8,0.9,1] \r\n",
        "\r\n",
        "for alpha in alphas:\r\n",
        "    # ML starting + saving the result data\r\n",
        "    run = experiment.start_logging()\r\n",
        "    run.log('alpha_value',alpha)\r\n",
        "\r\n",
        "    # ML train\r\n",
        "    model = Ridge(alpha=alpha)\r\n",
        "    model.fit(x_train, y_train)\r\n",
        "\r\n",
        "    # Test Evaluation\r\n",
        "    y_pred = model.predict(x_test)\r\n",
        "    rmse = math.sqrt(mean_squared_error(y_test, y_pred)) # to see sqrt(mean_squared_error) value\r\n",
        "    run.log('rmse',rmse)\r\n",
        "\r\n",
        "    # Setting up the saving directory for the output file\r\n",
        "    model_name = 'model_alpha_' + str(alpha) + '.pkl' # save the result\r\n",
        "    filename = 'outputs/' + model_name  \r\n",
        "\r\n",
        "    # Save the file\r\n",
        "    joblib.dump(value=model, filename=filename)\r\n",
        "    run.upload_file(name=model_name, path_or_stream=filename) # upload to azure ML Cloud\r\n",
        "    run.complete() \r\n",
        "\r\n",
        "    print(f'{alpha} experiment completed')"
      ],
      "outputs": [
        {
          "output_type": "stream",
          "name": "stdout",
          "text": "0.1 experiment completed\n0.2 experiment completed\n0.3 experiment completed\n0.4 experiment completed\n0.5 experiment completed\n0.6 experiment completed\n0.7 experiment completed\n0.8 experiment completed\n0.9 experiment completed\n1 experiment completed\n"
        }
      ],
      "execution_count": 23,
      "metadata": {
        "jupyter": {
          "source_hidden": false,
          "outputs_hidden": false
        },
        "nteract": {
          "transient": {
            "deleting": false
          }
        },
        "gather": {
          "logged": 1669742482540
        }
      }
    },
    {
      "cell_type": "code",
      "source": [
        "experiment"
      ],
      "outputs": [
        {
          "output_type": "execute_result",
          "execution_count": 24,
          "data": {
            "text/plain": "Experiment(Name: diabetes-experiment,\nWorkspace: kweont)",
            "text/html": "<table style=\"width:100%\"><tr><th>Name</th><th>Workspace</th><th>Report Page</th><th>Docs Page</th></tr><tr><td>diabetes-experiment</td><td>kweont</td><td><a href=\"https://ml.azure.com/experiments/id/efff6005-7279-4276-886b-da3fd36244e1?wsid=/subscriptions/9d48b691-f278-4011-a9b7-2f877276c682/resourcegroups/kweont/workspaces/kweont&amp;tid=d7270324-ea10-47a1-ae5f-74dba073f8fd\" target=\"_blank\" rel=\"noopener\">Link to Azure Machine Learning studio</a></td><td><a href=\"https://docs.microsoft.com/en-us/python/api/azureml-core/azureml.core.experiment.Experiment?view=azure-ml-py\" target=\"_blank\" rel=\"noopener\">Link to Documentation</a></td></tr></table>"
          },
          "metadata": {}
        }
      ],
      "execution_count": 24,
      "metadata": {
        "jupyter": {
          "source_hidden": false,
          "outputs_hidden": false
        },
        "nteract": {
          "transient": {
            "deleting": false
          }
        },
        "gather": {
          "logged": 1669743182955
        }
      }
    },
    {
      "cell_type": "code",
      "source": [
        "# Find the best model (later to deploy to cloud)\\\r\n",
        "\r\n",
        "# 결과 데이터를 받아놓을 변수, rmse는 작을수록 좋음!(그래서 minimum을 찾는 것!)\r\n",
        "minimum_rmse_runid = None \r\n",
        "minimum_rmse = None \r\n",
        "\r\n",
        "for run in experiment.get_runs(): # get_runs() => experiment의 결과값을 받아옴옴\r\n",
        "    run_metrics = run.get_metrics()\r\n",
        "    run_details = run.get_details()\r\n",
        "\r\n",
        "    run_rmse = run_metrics['rmse']\r\n",
        "    run_id = run_details['runId']\r\n",
        "\r\n",
        "    if minimum_rmse is None:\r\n",
        "        minimum_rmse = run_rmse\r\n",
        "        minimum_rmse_runid = run_id\r\n",
        "    else:\r\n",
        "        if run_rmse < minimum_rmse:\r\n",
        "            minimum_rmse  = run_rmse\r\n",
        "            minimum_rmse_runid = run_id \r\n",
        "\r\n",
        "print('Best run_id: ' + minimum_rmse_runid)\r\n",
        "print('Best rmse: ' + str(minimum_rmse))"
      ],
      "outputs": [
        {
          "output_type": "stream",
          "name": "stdout",
          "text": "Best run_id: f629a04b-f38d-48c7-b7d1-5df0f65e64e7\nBest rmse: 56.60520331339142\n"
        }
      ],
      "execution_count": 25,
      "metadata": {
        "jupyter": {
          "source_hidden": false,
          "outputs_hidden": false
        },
        "nteract": {
          "transient": {
            "deleting": false
          }
        },
        "gather": {
          "logged": 1669743720062
        }
      }
    },
    {
      "cell_type": "code",
      "source": [
        "from azureml.core import Run # 가장 좋은 결과값을 다운받아서 사용함\r\n",
        "best_run = Run(experiment=experiment, run_id=minimum_rmse_runid)\r\n",
        "\r\n",
        "# Download the file\r\n",
        "best_run.download_file(name=str(best_run.get_file_names()[0])) # 실험에 따라 여러 파일이 나올 수 있음, 현재는 [0]을 사용하여 첫번째만!"
      ],
      "outputs": [],
      "execution_count": 27,
      "metadata": {
        "jupyter": {
          "source_hidden": false,
          "outputs_hidden": false
        },
        "nteract": {
          "transient": {
            "deleting": false
          }
        },
        "gather": {
          "logged": 1669743952710
        }
      }
    },
    {
      "cell_type": "code",
      "source": [
        "# best run model파일을 저장했다면\r\n",
        "# 그 파일이 나오게 된 데이터 파일 또한 저장해야함!\r\n",
        "from azureml.core import Dataset \r\n",
        "\r\n",
        "# numpy를 통해 scv파일로 저장함\r\n",
        "np.savetxt('features.csv', x_train, delimiter=',')\r\n",
        "np.savetxt('labels.csv', y_train, delimiter=',')\r\n",
        "\r\n",
        "# get_default_datastore()을 통해 데이터를 cloud로 올림\r\n",
        "datastore = ws.get_default_datastore()\r\n",
        "datastore.upload_files(files=['./features.csv', './labels.csv'],\r\n",
        "                       target_path='diabetes-experiment/',\r\n",
        "                       overwrite=True)\r\n",
        "\r\n",
        "input_dataset = Dataset.Tabular.from_delimited_files(path=[(datastore, 'diabetes-experiment/features.csv')])\r\n",
        "output_dataset = Dataset.Tabular.from_delimited_files(path=[(datastore, 'diabetes-experiment/labels.csv')])\r\n"
      ],
      "outputs": [
        {
          "output_type": "stream",
          "name": "stderr",
          "text": "\"datastore.upload_files\" is deprecated after version 1.0.69. Please use \"FileDatasetFactory.upload_directory\" instead. See Dataset API change notice at https://aka.ms/dataset-deprecation.\n"
        }
      ],
      "execution_count": 28,
      "metadata": {
        "jupyter": {
          "source_hidden": false,
          "outputs_hidden": false
        },
        "nteract": {
          "transient": {
            "deleting": false
          }
        },
        "gather": {
          "logged": 1669744265509
        }
      }
    },
    {
      "cell_type": "code",
      "source": [
        "# 위 모델을 등록 및 사용 방법\r\n",
        "import sklearn\r\n",
        "\r\n",
        "from azureml.core import Model # azureml의 model, 아래 model.register에서 필요한 정보들들\r\n",
        "from azureml.core.resource_configuration import ResourceConfiguration\r\n",
        "\r\n",
        "model = Model.register(workspace=ws,\r\n",
        "                       model_name='diabetes-experiment-model',\r\n",
        "                       model_path=f\"./{str(best_run.get_file_names()[0])}\", \r\n",
        "                       model_framework=Model.Framework.SCIKITLEARN,  \r\n",
        "                       model_framework_version=sklearn.__version__,  \r\n",
        "                       sample_input_dataset=input_dataset,\r\n",
        "                       sample_output_dataset=output_dataset,\r\n",
        "                       resource_configuration=ResourceConfiguration(cpu=1, memory_in_gb=0.5),\r\n",
        "                       description='Ridge regression model to predict diabetes progression.',\r\n",
        "                       tags={'area': 'diabetes', 'type': 'regression'})\r\n",
        "\r\n",
        "print('Name:', model.name)\r\n",
        "print('Version:', model.version)"
      ],
      "outputs": [
        {
          "output_type": "stream",
          "name": "stdout",
          "text": "Registering model diabetes-experiment-model\nName: diabetes-experiment-model\nVersion: 1\n"
        }
      ],
      "execution_count": 29,
      "metadata": {
        "jupyter": {
          "source_hidden": false,
          "outputs_hidden": false
        },
        "nteract": {
          "transient": {
            "deleting": false
          }
        },
        "gather": {
          "logged": 1669744486515
        }
      }
    },
    {
      "cell_type": "code",
      "source": [
        "# Model Deployment\r\n",
        "service_name = 'diabetes-service'\r\n",
        "\r\n",
        "service = Model.deploy(ws, service_name, [model], overwrite=True)\r\n",
        "service.wait_for_deployment(show_output=True) # deployment start"
      ],
      "outputs": [
        {
          "output_type": "stream",
          "name": "stdout",
          "text": "Tips: You can try get_logs(): https://aka.ms/debugimage#dockerlog or local deployment: https://aka.ms/debugimage#debug-locally to debug if deployment takes longer than 10 minutes.\nRunning\n2022-11-29 18:00:17+00:00 Creating Container Registry if not exists..\n2022-11-29 18:10:17+00:00 Registering the environment.\n2022-11-29 18:10:19+00:00 Uploading autogenerated assets for no-code-deployment..\n2022-11-29 18:10:22+00:00 Building image."
        }
      ],
      "execution_count": 30,
      "metadata": {
        "jupyter": {
          "source_hidden": false,
          "outputs_hidden": false
        },
        "nteract": {
          "transient": {
            "deleting": false
          }
        }
      }
    },
    {
      "cell_type": "code",
      "source": [
        "import json \r\n",
        "\r\n",
        "# json 형태의 데이터를 만들어서 예측값으로 전달하면\r\n",
        "# 위에 배포되어있는 시스템에 이 데이터가 들어가서\r\n",
        "# 배포된 시스템이 예측해서 결과를 output으로 알려줌!\r\n",
        "input_payload = json.dumps({     \r\n",
        "    'data': x_test.values.tolist(),     \r\n",
        "    'method': 'predict' \r\n",
        "}) \r\n",
        "\r\n",
        "output = service.run(input_payload) \r\n",
        "\r\n",
        "print(output)\r\n",
        "\r\n",
        "# 만약 사용자가 적다면 이 상태 그대로 사용 가능!\r\n",
        "# 하지만 사용자가 많아진다면, 쿠보네티스와 연동해서 서버를 늘려줘야함!"
      ],
      "outputs": [],
      "execution_count": null,
      "metadata": {
        "jupyter": {
          "source_hidden": false,
          "outputs_hidden": false
        },
        "nteract": {
          "transient": {
            "deleting": false
          }
        }
      }
    }
  ],
  "metadata": {
    "kernelspec": {
      "name": "python38-azureml",
      "language": "python",
      "display_name": "Python 3.8 - AzureML"
    },
    "language_info": {
      "name": "python",
      "version": "3.8.5",
      "mimetype": "text/x-python",
      "codemirror_mode": {
        "name": "ipython",
        "version": 3
      },
      "pygments_lexer": "ipython3",
      "nbconvert_exporter": "python",
      "file_extension": ".py"
    },
    "kernel_info": {
      "name": "python38-azureml"
    },
    "nteract": {
      "version": "nteract-front-end@1.0.0"
    },
    "microsoft": {
      "host": {
        "AzureML": {
          "notebookHasBeenCompleted": true
        }
      }
    }
  },
  "nbformat": 4,
  "nbformat_minor": 2
}