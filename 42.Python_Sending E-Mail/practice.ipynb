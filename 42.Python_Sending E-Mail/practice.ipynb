{
 "cells": [
  {
   "cell_type": "code",
   "execution_count": 2,
   "metadata": {},
   "outputs": [],
   "source": [
    "import smtplib # STMP사용을 위한 모듈\n",
    "from email.mime.text import MIMEText # 메일을 보낼 때 메세지의 제목과 본문 설정 "
   ]
  },
  {
   "cell_type": "code",
   "execution_count": 3,
   "metadata": {},
   "outputs": [],
   "source": [
    "# 세션 생성 (지메일 사용을 위한 STMP 변수, 포트번호(G-MAIL의 경우 587))\n",
    "s = smtplib.SMTP('smtp.gmail.com', 587)"
   ]
  },
  {
   "cell_type": "code",
   "execution_count": 4,
   "metadata": {},
   "outputs": [
    {
     "data": {
      "text/plain": [
       "(220, b'2.0.0 Ready to start TLS')"
      ]
     },
     "execution_count": 4,
     "metadata": {},
     "output_type": "execute_result"
    }
   ],
   "source": [
    "# TLS 보안 시작 (G-MAIL은 보안상의 이유로 SMTP연결을 TLS 모드로 설정해야함)\n",
    "s.starttls()"
   ]
  },
  {
   "cell_type": "code",
   "execution_count": 6,
   "metadata": {},
   "outputs": [
    {
     "ename": "SMTPNotSupportedError",
     "evalue": "SMTP AUTH extension not supported by server.",
     "output_type": "error",
     "traceback": [
      "\u001b[1;31m---------------------------------------------------------------------------\u001b[0m",
      "\u001b[1;31mSMTPNotSupportedError\u001b[0m                     Traceback (most recent call last)",
      "Cell \u001b[1;32mIn [6], line 2\u001b[0m\n\u001b[0;32m      1\u001b[0m \u001b[39m# 로그인 인증\u001b[39;00m\n\u001b[1;32m----> 2\u001b[0m s\u001b[39m.\u001b[39;49mlogin(\u001b[39m'\u001b[39;49m\u001b[39mkweont0211@gmail.com\u001b[39;49m\u001b[39m'\u001b[39;49m, \u001b[39m'\u001b[39;49m\u001b[39mawfphknlqbkvjwga\u001b[39;49m\u001b[39m'\u001b[39;49m)\n",
      "File \u001b[1;32mc:\\Users\\tempe\\AppData\\Local\\Programs\\Python\\Python310\\lib\\smtplib.py:716\u001b[0m, in \u001b[0;36mSMTP.login\u001b[1;34m(self, user, password, initial_response_ok)\u001b[0m\n\u001b[0;32m    714\u001b[0m \u001b[39mself\u001b[39m\u001b[39m.\u001b[39mehlo_or_helo_if_needed()\n\u001b[0;32m    715\u001b[0m \u001b[39mif\u001b[39;00m \u001b[39mnot\u001b[39;00m \u001b[39mself\u001b[39m\u001b[39m.\u001b[39mhas_extn(\u001b[39m\"\u001b[39m\u001b[39mauth\u001b[39m\u001b[39m\"\u001b[39m):\n\u001b[1;32m--> 716\u001b[0m     \u001b[39mraise\u001b[39;00m SMTPNotSupportedError(\n\u001b[0;32m    717\u001b[0m         \u001b[39m\"\u001b[39m\u001b[39mSMTP AUTH extension not supported by server.\u001b[39m\u001b[39m\"\u001b[39m)\n\u001b[0;32m    719\u001b[0m \u001b[39m# Authentication methods the server claims to support\u001b[39;00m\n\u001b[0;32m    720\u001b[0m advertised_authlist \u001b[39m=\u001b[39m \u001b[39mself\u001b[39m\u001b[39m.\u001b[39mesmtp_features[\u001b[39m\"\u001b[39m\u001b[39mauth\u001b[39m\u001b[39m\"\u001b[39m]\u001b[39m.\u001b[39msplit()\n",
      "\u001b[1;31mSMTPNotSupportedError\u001b[0m: SMTP AUTH extension not supported by server."
     ]
    }
   ],
   "source": [
    "# 로그인 인증\n",
    "s.login('kweont0211@gmail.com', '')"
   ]
  },
  {
   "cell_type": "code",
   "execution_count": 7,
   "metadata": {},
   "outputs": [],
   "source": [
    "# 보낼 메시지 설정\n",
    "msg = MIMEText('내용 : 본문내용 테스트입니다.')\n",
    "msg['Subject'] = '제목 : 메일 보내기 테스트입니다.'"
   ]
  },
  {
   "cell_type": "code",
   "execution_count": 8,
   "metadata": {},
   "outputs": [
    {
     "ename": "SMTPServerDisconnected",
     "evalue": "please run connect() first",
     "output_type": "error",
     "traceback": [
      "\u001b[1;31m---------------------------------------------------------------------------\u001b[0m",
      "\u001b[1;31mSMTPServerDisconnected\u001b[0m                    Traceback (most recent call last)",
      "Cell \u001b[1;32mIn [8], line 2\u001b[0m\n\u001b[0;32m      1\u001b[0m \u001b[39m# 메일 보내기\u001b[39;00m\n\u001b[1;32m----> 2\u001b[0m s\u001b[39m.\u001b[39;49msendmail(\u001b[39m\"\u001b[39;49m\u001b[39m보내는 이메일\u001b[39;49m\u001b[39m\"\u001b[39;49m, \u001b[39m\"\u001b[39;49m\u001b[39m받는 이메일\u001b[39;49m\u001b[39m\"\u001b[39;49m, msg\u001b[39m.\u001b[39;49mas_string())\n\u001b[0;32m      4\u001b[0m \u001b[39m# 세션 종료\u001b[39;00m\n\u001b[0;32m      5\u001b[0m s\u001b[39m.\u001b[39mquit()\n",
      "File \u001b[1;32mc:\\Users\\tempe\\AppData\\Local\\Programs\\Python\\Python310\\lib\\smtplib.py:881\u001b[0m, in \u001b[0;36mSMTP.sendmail\u001b[1;34m(self, from_addr, to_addrs, msg, mail_options, rcpt_options)\u001b[0m\n\u001b[0;32m    879\u001b[0m     \u001b[39mfor\u001b[39;00m option \u001b[39min\u001b[39;00m mail_options:\n\u001b[0;32m    880\u001b[0m         esmtp_opts\u001b[39m.\u001b[39mappend(option)\n\u001b[1;32m--> 881\u001b[0m (code, resp) \u001b[39m=\u001b[39m \u001b[39mself\u001b[39;49m\u001b[39m.\u001b[39;49mmail(from_addr, esmtp_opts)\n\u001b[0;32m    882\u001b[0m \u001b[39mif\u001b[39;00m code \u001b[39m!=\u001b[39m \u001b[39m250\u001b[39m:\n\u001b[0;32m    883\u001b[0m     \u001b[39mif\u001b[39;00m code \u001b[39m==\u001b[39m \u001b[39m421\u001b[39m:\n",
      "File \u001b[1;32mc:\\Users\\tempe\\AppData\\Local\\Programs\\Python\\Python310\\lib\\smtplib.py:545\u001b[0m, in \u001b[0;36mSMTP.mail\u001b[1;34m(self, sender, options)\u001b[0m\n\u001b[0;32m    542\u001b[0m             \u001b[39mraise\u001b[39;00m SMTPNotSupportedError(\n\u001b[0;32m    543\u001b[0m                 \u001b[39m'\u001b[39m\u001b[39mSMTPUTF8 not supported by server\u001b[39m\u001b[39m'\u001b[39m)\n\u001b[0;32m    544\u001b[0m     optionlist \u001b[39m=\u001b[39m \u001b[39m'\u001b[39m\u001b[39m \u001b[39m\u001b[39m'\u001b[39m \u001b[39m+\u001b[39m \u001b[39m'\u001b[39m\u001b[39m \u001b[39m\u001b[39m'\u001b[39m\u001b[39m.\u001b[39mjoin(options)\n\u001b[1;32m--> 545\u001b[0m \u001b[39mself\u001b[39;49m\u001b[39m.\u001b[39;49mputcmd(\u001b[39m\"\u001b[39;49m\u001b[39mmail\u001b[39;49m\u001b[39m\"\u001b[39;49m, \u001b[39m\"\u001b[39;49m\u001b[39mFROM:\u001b[39;49m\u001b[39m%s\u001b[39;49;00m\u001b[39m%s\u001b[39;49;00m\u001b[39m\"\u001b[39;49m \u001b[39m%\u001b[39;49m (quoteaddr(sender), optionlist))\n\u001b[0;32m    546\u001b[0m \u001b[39mreturn\u001b[39;00m \u001b[39mself\u001b[39m\u001b[39m.\u001b[39mgetreply()\n",
      "File \u001b[1;32mc:\\Users\\tempe\\AppData\\Local\\Programs\\Python\\Python310\\lib\\smtplib.py:378\u001b[0m, in \u001b[0;36mSMTP.putcmd\u001b[1;34m(self, cmd, args)\u001b[0m\n\u001b[0;32m    374\u001b[0m     s \u001b[39m=\u001b[39m s\u001b[39m.\u001b[39mreplace(\u001b[39m'\u001b[39m\u001b[39m\\n\u001b[39;00m\u001b[39m'\u001b[39m, \u001b[39m'\u001b[39m\u001b[39m\\\\\u001b[39;00m\u001b[39mn\u001b[39m\u001b[39m'\u001b[39m)\u001b[39m.\u001b[39mreplace(\u001b[39m'\u001b[39m\u001b[39m\\r\u001b[39;00m\u001b[39m'\u001b[39m, \u001b[39m'\u001b[39m\u001b[39m\\\\\u001b[39;00m\u001b[39mr\u001b[39m\u001b[39m'\u001b[39m)\n\u001b[0;32m    375\u001b[0m     \u001b[39mraise\u001b[39;00m \u001b[39mValueError\u001b[39;00m(\n\u001b[0;32m    376\u001b[0m         \u001b[39mf\u001b[39m\u001b[39m'\u001b[39m\u001b[39mcommand and arguments contain prohibited newline characters: \u001b[39m\u001b[39m{\u001b[39;00ms\u001b[39m}\u001b[39;00m\u001b[39m'\u001b[39m\n\u001b[0;32m    377\u001b[0m     )\n\u001b[1;32m--> 378\u001b[0m \u001b[39mself\u001b[39;49m\u001b[39m.\u001b[39;49msend(\u001b[39mf\u001b[39;49m\u001b[39m'\u001b[39;49m\u001b[39m{\u001b[39;49;00ms\u001b[39m}\u001b[39;49;00m\u001b[39m{\u001b[39;49;00mCRLF\u001b[39m}\u001b[39;49;00m\u001b[39m'\u001b[39;49m)\n",
      "File \u001b[1;32mc:\\Users\\tempe\\AppData\\Local\\Programs\\Python\\Python310\\lib\\smtplib.py:365\u001b[0m, in \u001b[0;36mSMTP.send\u001b[1;34m(self, s)\u001b[0m\n\u001b[0;32m    363\u001b[0m         \u001b[39mraise\u001b[39;00m SMTPServerDisconnected(\u001b[39m'\u001b[39m\u001b[39mServer not connected\u001b[39m\u001b[39m'\u001b[39m)\n\u001b[0;32m    364\u001b[0m \u001b[39melse\u001b[39;00m:\n\u001b[1;32m--> 365\u001b[0m     \u001b[39mraise\u001b[39;00m SMTPServerDisconnected(\u001b[39m'\u001b[39m\u001b[39mplease run connect() first\u001b[39m\u001b[39m'\u001b[39m)\n",
      "\u001b[1;31mSMTPServerDisconnected\u001b[0m: please run connect() first"
     ]
    }
   ],
   "source": [
    "# 메일 보내기\n",
    "s.sendmail(\"보내는 이메일\", \"받는 이메일\", msg.as_string())\n",
    "\n",
    "# 세션 종료\n",
    "s.quit()"
   ]
  }
 ],
 "metadata": {
  "kernelspec": {
   "display_name": "Python 3",
   "language": "python",
   "name": "python3"
  },
  "language_info": {
   "codemirror_mode": {
    "name": "ipython",
    "version": 3
   },
   "file_extension": ".py",
   "mimetype": "text/x-python",
   "name": "python",
   "nbconvert_exporter": "python",
   "pygments_lexer": "ipython3",
   "version": "3.10.5"
  },
  "orig_nbformat": 4,
  "vscode": {
   "interpreter": {
    "hash": "e89c93e4c07d4ac8f065cea982a638287e1c61026788fcbbad7e0263e2130583"
   }
  }
 },
 "nbformat": 4,
 "nbformat_minor": 2
}
